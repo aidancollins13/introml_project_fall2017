{
 "cells": [
  {
   "cell_type": "code",
   "execution_count": 3,
   "metadata": {
    "collapsed": true
   },
   "outputs": [],
   "source": [
    "import numpy as np\n",
    "import pandas as pd\n",
    "import matplotlib.pyplot as plt\n",
    "import math"
   ]
  },
  {
   "cell_type": "code",
   "execution_count": 4,
   "metadata": {
    "collapsed": true
   },
   "outputs": [],
   "source": [
    "#creating whole dataset\n",
    "seventeen = pd.read_json(\"https://missingmigrants.iom.int/global-figures/2017/json\")\n",
    "sixteen = pd.read_json(\"https://missingmigrants.iom.int/global-figures/2016/json\")\n",
    "fifteen = pd.read_json(\"https://missingmigrants.iom.int/global-figures/2015/json\")\n",
    "fourteen = pd.read_json(\"https://missingmigrants.iom.int/global-figures/2014/json\")"
   ]
  },
  {
   "cell_type": "code",
   "execution_count": 5,
   "metadata": {
    "collapsed": true
   },
   "outputs": [],
   "source": [
    "frames = [seventeen,sixteen,fifteen,fourteen]\n",
    "df = pd.concat(frames)"
   ]
  },
  {
   "cell_type": "code",
   "execution_count": 6,
   "metadata": {
    "collapsed": true
   },
   "outputs": [],
   "source": [
    "#cleaning data\n",
    "df = df.replace('', 0,regex=True)\n",
    "df = df.replace('nan', 0, regex=True)\n",
    "df.drop(['Information Source'])\n",
    "df = df[df['Web ID'] != 42424] #drops row with -1 as number of survivors\n",
    "\n",
    "df['Reported Date'] = pd.to_datetime(df['Reported Date'])\n",
    "df['total people'] = pd.to_numeric(df['Number of survivors']) + pd.to_numeric(df['Total Dead and Missing'])\n",
    "df['percent female'] = (pd.to_numeric(df['Number of Female'])/ df['total people']).fillna(0)\n",
    "df['percent male'] =  (pd.to_numeric(df['Number of Male'])/ df['total people']).fillna(0)\n",
    "df['percent kids'] =  (pd.to_numeric(df['Number of Children']) / df['total people']).fillna(0)\n",
    "df['month'] = df['Reported Date'].dt.month\n",
    "df['day'] = df['Reported Date'].dt.day\n",
    "\n",
    "#latitude and longitude to cartesian\n",
    "R = 6371\n",
    "df['x'] = df['Location'].apply(lambda latLong: R*math.cos(float(latLong.split(\", \")[0]))*math.cos(float(latLong.split(\", \")[1])))\n",
    "df['y'] = df['Location'].apply(lambda latLong: R*math.cos(float(latLong.split(\", \")[0]))*math.sin(float(latLong.split(\", \")[1])))\n",
    "df['z'] = df['Location'].apply(lambda latLong: R*math.sin(float(latLong.split(\", \")[0])))"
   ]
  },
  {
   "cell_type": "code",
   "execution_count": 54,
   "metadata": {
    "collapsed": true
   },
   "outputs": [],
   "source": [
    "#separating data\n",
    "# fourteen = df[(df['Reported Date'] >= '2014-01-01') & (df['Reported Date'] < '2015-01-01')]\n",
    "# fifteen = df[(df['Reported Date'] >= '2015-01-01') & (df['Reported Date'] < '2016-01-01')]\n",
    "# sixteen = df[(df['Reported Date'] >= '2016-01-01') & (df['Reported Date'] < '2017-01-01')]\n",
    "# seventeen = df[(df['Reported Date'] >= '2017-01-01') & (df['Reported Date'] < '2018-01-01')]"
   ]
  },
  {
   "cell_type": "code",
   "execution_count": 55,
   "metadata": {
    "collapsed": true
   },
   "outputs": [],
   "source": [
    "from sklearn import linear_model\n",
    "from sklearn.model_selection import ShuffleSplit"
   ]
  },
  {
   "cell_type": "code",
   "execution_count": 56,
   "metadata": {
    "collapsed": true
   },
   "outputs": [],
   "source": [
    "def linear(dataframe):\n",
    "    # the index will help us get back from number to category later\n",
    "    dataframe['UNSD Geographical Grouping'], geoIndex = pd.Series(dataframe['UNSD Geographical Grouping']).factorize()\n",
    "    dataframe['Migrant Route'], migrantIndex = pd.Series(dataframe['Migrant Route']).factorize()\n",
    "    dataframe['Region of Incident'], regionIndex = pd.Series(dataframe['Region of Incident']).factorize()\n",
    "\n",
    "    y = np.array((pd.to_numeric(dataframe['Number of survivors']) / dataframe['total people']).fillna(0))\n",
    "    y = np.nan_to_num(y)\n",
    "    y[y == np.abs(np.inf)] = 0\n",
    "    \n",
    "    y = (100*y).astype(int)\n",
    "\n",
    "\n",
    "    x = np.array(dataframe[['UNSD Geographical Grouping', 'Migrant Route', 'Region of Incident', 'percent female',\n",
    "                     'percent kids', 'percent male', 'month', 'day']])\n",
    "    x = np.nan_to_num(x)\n",
    "\n",
    "    x[:,3] = (100*x[:,3]).astype(int)\n",
    "    x[:,4] = (100*x[:,4]).astype(int)\n",
    "    x[:,2] = (100*x[:,2]).astype(int)\n",
    "\n",
    "\n",
    "    rs = ShuffleSplit(n_splits=3, test_size=.25, random_state=0)\n",
    "\n",
    "    for train_index, test_index in rs.split(x):\n",
    "        regr = linear_model.LinearRegression()\n",
    "        regr.fit(x[train_index],y[train_index])\n",
    "        print(\"train: \", regr.score(x[train_index],y[train_index]) )\n",
    "        print(\"test: \", regr.score(x[test_index],y[test_index]))\n",
    "    print()"
   ]
  },
  {
   "cell_type": "code",
   "execution_count": 60,
   "metadata": {
    "collapsed": true
   },
   "outputs": [],
   "source": [
    "def nn(dataframe):\n",
    "    # the index will help us get back from number to category later\n",
    "    dataframe['UNSD Geographical Grouping'], geoIndex = pd.Series(dataframe['UNSD Geographical Grouping']).factorize()\n",
    "    dataframe['Migrant Route'], migrantIndex = pd.Series(dataframe['Migrant Route']).factorize()\n",
    "    dataframe['Region of Incident'], regionIndex = pd.Series(dataframe['Region of Incident']).factorize()\n",
    "\n",
    "    y = np.array((pd.to_numeric(dataframe['Number of survivors']) / dataframe['total people']).fillna(0))\n",
    "    y = np.nan_to_num(y)\n",
    "    y[y == np.abs(np.inf)] = 0\n",
    "    \n",
    "    y = (100*y).astype(int)\n",
    "\n",
    "\n",
    "    x = np.array(dataframe[['UNSD Geographical Grouping', 'Migrant Route', 'Region of Incident', 'percent female',\n",
    "                     'percent kids', 'percent male', 'month', 'day']])\n",
    "    x = np.nan_to_num(x)\n",
    "\n",
    "    x[:,3] = (100*x[:,3]).astype(int)\n",
    "    x[:,4] = (100*x[:,4]).astype(int)\n",
    "    x[:,2] = (100*x[:,2]).astype(int)\n",
    "\n",
    "\n",
    "#     rs = ShuffleSplit(n_splits=3, test_size=.25, random_state=0)\n",
    "\n",
    "#     for train_index, test_index in rs.split(x):\n",
    "#         regr = linear_model.LinearRegression()\n",
    "#         regr.fit(x[train_index],y[train_index])\n",
    "#         print(\"train: \", regr.score(x[train_index],y[train_index]) )\n",
    "#         print(\"test: \", regr.score(x[test_index],y[test_index]))\n",
    "#     print()\n",
    "    \n",
    "    ntr = len(y)//4 *3\n",
    "    x_tr = x[:ntr,:]\n",
    "    y_tr = y[:ntr]\n",
    "    x_ts = x[ntr:,:]\n",
    "    y_ts = y[ntr:]\n",
    "\n",
    "    K.clear_session()\n",
    "\n",
    "    nin = x.shape[1]\n",
    "    nout = int(np.max(y)+1) \n",
    "    model = Sequential()\n",
    "    model.add(Dense(100, input_shape=(nin,), activation='sigmoid', name='hidden'))\n",
    "    model.add(Dense(nout, activation='softmax', name='output'))\n",
    "\n",
    "    model.summary()\n",
    "\n",
    "    opt = optimizers.Adam(lr=0.001) # beta_1=0.9, beta_2=0.999, epsilon=1e-08, decay=0.0)\n",
    "    model.compile(optimizer=opt,\n",
    "                  loss='sparse_categorical_crossentropy',\n",
    "                  metrics=['accuracy'])\n",
    "    model.fit(x_tr, y_tr, epochs=10, batch_size=100, validation_data=(x_ts,y_ts))\n",
    "    return model,x_tr,y_tr,x_ts,y_ts"
   ]
  },
  {
   "cell_type": "code",
   "execution_count": 57,
   "metadata": {},
   "outputs": [
    {
     "name": "stderr",
     "output_type": "stream",
     "text": [
      "C:\\Users\\kimmy\\Miniconda2\\envs\\py35\\lib\\site-packages\\ipykernel_launcher.py:18: RuntimeWarning: overflow encountered in multiply\n",
      "C:\\Users\\kimmy\\Miniconda2\\envs\\py35\\lib\\site-packages\\ipykernel_launcher.py:19: RuntimeWarning: overflow encountered in multiply\n"
     ]
    },
    {
     "name": "stdout",
     "output_type": "stream",
     "text": [
      "train:  0.189575694258\n",
      "test:  0.173185902101\n",
      "train:  0.181848515751\n",
      "test:  0.191545532187\n",
      "train:  0.181317381178\n",
      "test:  0.200121181546\n",
      "\n",
      "train:  0.328144743217\n",
      "test:  0.414092450658\n",
      "train:  0.391303557173\n",
      "test:  0.160383453985\n",
      "train:  0.366127206034\n",
      "test:  0.318608173157\n",
      "\n"
     ]
    },
    {
     "name": "stderr",
     "output_type": "stream",
     "text": [
      "C:\\Users\\kimmy\\Miniconda2\\envs\\py35\\lib\\site-packages\\ipykernel_launcher.py:3: SettingWithCopyWarning: \n",
      "A value is trying to be set on a copy of a slice from a DataFrame.\n",
      "Try using .loc[row_indexer,col_indexer] = value instead\n",
      "\n",
      "See the caveats in the documentation: http://pandas.pydata.org/pandas-docs/stable/indexing.html#indexing-view-versus-copy\n",
      "  This is separate from the ipykernel package so we can avoid doing imports until\n",
      "C:\\Users\\kimmy\\Miniconda2\\envs\\py35\\lib\\site-packages\\ipykernel_launcher.py:4: SettingWithCopyWarning: \n",
      "A value is trying to be set on a copy of a slice from a DataFrame.\n",
      "Try using .loc[row_indexer,col_indexer] = value instead\n",
      "\n",
      "See the caveats in the documentation: http://pandas.pydata.org/pandas-docs/stable/indexing.html#indexing-view-versus-copy\n",
      "  after removing the cwd from sys.path.\n",
      "C:\\Users\\kimmy\\Miniconda2\\envs\\py35\\lib\\site-packages\\ipykernel_launcher.py:5: SettingWithCopyWarning: \n",
      "A value is trying to be set on a copy of a slice from a DataFrame.\n",
      "Try using .loc[row_indexer,col_indexer] = value instead\n",
      "\n",
      "See the caveats in the documentation: http://pandas.pydata.org/pandas-docs/stable/indexing.html#indexing-view-versus-copy\n",
      "  \"\"\"\n"
     ]
    }
   ],
   "source": [
    "linearFrame = df.copy(deep=True) #as to keep same df for later use\n",
    "\n",
    "linear(linearFrame) #.2\n",
    "linear(linearFrame[linearFrame['UNSD Geographical Grouping'] == geoIndex.get_loc('Central America')]) #.41"
   ]
  },
  {
   "cell_type": "code",
   "execution_count": 61,
   "metadata": {},
   "outputs": [
    {
     "name": "stderr",
     "output_type": "stream",
     "text": [
      "C:\\Users\\kimmy\\Miniconda2\\envs\\py35\\lib\\site-packages\\ipykernel_launcher.py:18: RuntimeWarning: overflow encountered in multiply\n",
      "C:\\Users\\kimmy\\Miniconda2\\envs\\py35\\lib\\site-packages\\ipykernel_launcher.py:19: RuntimeWarning: overflow encountered in multiply\n"
     ]
    },
    {
     "name": "stdout",
     "output_type": "stream",
     "text": [
      "_________________________________________________________________\n",
      "Layer (type)                 Output Shape              Param #   \n",
      "=================================================================\n",
      "hidden (Dense)               (None, 100)               900       \n",
      "_________________________________________________________________\n",
      "output (Dense)               (None, 100)               10100     \n",
      "=================================================================\n",
      "Total params: 11,000\n",
      "Trainable params: 11,000\n",
      "Non-trainable params: 0\n",
      "_________________________________________________________________\n",
      "Train on 2391 samples, validate on 800 samples\n",
      "Epoch 1/10\n",
      "2391/2391 [==============================] - 2s 694us/step - loss: 3.7279 - acc: 0.3149 - val_loss: 2.5929 - val_acc: 0.8300\n",
      "Epoch 2/10\n",
      "2391/2391 [==============================] - 0s 182us/step - loss: 1.6695 - acc: 0.8628 - val_loss: 1.3265 - val_acc: 0.8300\n",
      "Epoch 3/10\n",
      "2391/2391 [==============================] - 0s 209us/step - loss: 1.0010 - acc: 0.8628 - val_loss: 1.1655 - val_acc: 0.8300\n",
      "Epoch 4/10\n",
      "2391/2391 [==============================] - 0s 189us/step - loss: 0.9107 - acc: 0.8628 - val_loss: 1.1433 - val_acc: 0.8300\n",
      "Epoch 5/10\n",
      "2391/2391 [==============================] - 0s 164us/step - loss: 0.8863 - acc: 0.8628 - val_loss: 1.1337 - val_acc: 0.8300\n",
      "Epoch 6/10\n",
      "2391/2391 [==============================] - 0s 181us/step - loss: 0.8721 - acc: 0.8628 - val_loss: 1.1341 - val_acc: 0.8300\n",
      "Epoch 7/10\n",
      "2391/2391 [==============================] - 0s 182us/step - loss: 0.8620 - acc: 0.8628 - val_loss: 1.1336 - val_acc: 0.8300\n",
      "Epoch 8/10\n",
      "2391/2391 [==============================] - 0s 166us/step - loss: 0.8532 - acc: 0.8628 - val_loss: 1.1338 - val_acc: 0.8300\n",
      "Epoch 9/10\n",
      "2391/2391 [==============================] - 0s 164us/step - loss: 0.8458 - acc: 0.8628 - val_loss: 1.1383 - val_acc: 0.8300\n",
      "Epoch 10/10\n",
      "2391/2391 [==============================] - 0s 163us/step - loss: 0.8388 - acc: 0.8628 - val_loss: 1.1422 - val_acc: 0.8300\n"
     ]
    }
   ],
   "source": [
    "nnFrame = df.copy(deep=True) #as to keep same df for later use\n",
    "nnModel,x_tr,y_tr,x_ts,y_ts = nn(nnFrame)"
   ]
  },
  {
   "cell_type": "code",
   "execution_count": 56,
   "metadata": {},
   "outputs": [],
   "source": [
    "yp = nnModel.predict(x_ts)"
   ]
  },
  {
   "cell_type": "code",
   "execution_count": 57,
   "metadata": {},
   "outputs": [
    {
     "data": {
      "text/plain": [
       "(800, 100)"
      ]
     },
     "execution_count": 57,
     "metadata": {},
     "output_type": "execute_result"
    }
   ],
   "source": [
    "yp.shape"
   ]
  },
  {
   "cell_type": "code",
   "execution_count": 7,
   "metadata": {},
   "outputs": [
    {
     "name": "stderr",
     "output_type": "stream",
     "text": [
      "Using TensorFlow backend.\n"
     ]
    }
   ],
   "source": [
    "import keras\n",
    "from keras.models import Model,Sequential\n",
    "from keras.layers import Dense,Activation\n",
    "import keras.backend as K\n",
    "from sklearn.model_selection import train_test_split\n",
    "from keras import optimizers"
   ]
  },
  {
   "cell_type": "code",
   "execution_count": 45,
   "metadata": {},
   "outputs": [
    {
     "ename": "SyntaxError",
     "evalue": "invalid syntax (<ipython-input-45-2b8bfe927916>, line 2)",
     "output_type": "error",
     "traceback": [
      "\u001b[1;36m  File \u001b[1;32m\"<ipython-input-45-2b8bfe927916>\"\u001b[1;36m, line \u001b[1;32m2\u001b[0m\n\u001b[1;33m    dataframe df.copy(deep=True)\u001b[0m\n\u001b[1;37m               ^\u001b[0m\n\u001b[1;31mSyntaxError\u001b[0m\u001b[1;31m:\u001b[0m invalid syntax\n"
     ]
    }
   ],
   "source": [
    "# def neural(dataframe):\n",
    "dataframe df.copy(deep=True)\n",
    "ohc_UNSD = pd.get_dummies(dataframe['UNSD Geographical Grouping'],prefix='UNSD')\n",
    "ohc_Route = pd.get_dummies(dataframe['Migrant Route'],prefix='Route')\n",
    "ohc_Region = pd.get_dummies(dataframe['Region of Incident'],prefix='Region')\n",
    "\n",
    "#makes a copy of dataframe,  does not alter it\n",
    "frame = dataframe.join(ohc_UNSD)\n",
    "frame = frame.join(ohc_Region)\n",
    "frame = frame.join(ohc_Route)\n",
    "\n",
    "y = np.array((pd.to_numeric(frame['Number of survivors']) / frame['total people']).fillna(0))\n",
    "y = np.nan_to_num(y)\n",
    "y[y == np.abs(np.inf)] = 0\n",
    "\n",
    "b = (100*y).astype(int)\n",
    "\n",
    "\n",
    "x = np.array(frame[['percent female', 'percent kids', 'percent male', 'day','month','x','y','z']])\n",
    "x = np.column_stack((x,np.array(frame.loc[:,'UNSD_0':])))\n",
    "\n",
    "x = np.nan_to_num(x)\n",
    "x[:,0] = (100*x[:,0]).astype(int)\n",
    "x[:,1] = (100*x[:,1]).astype(int)\n",
    "x[:,2] = (100*x[:,2]).astype(int)\n"
   ]
  },
  {
   "cell_type": "code",
   "execution_count": null,
   "metadata": {
    "collapsed": true
   },
   "outputs": [],
   "source": [
    "ntr = len(y)//4 *3\n",
    "x_tr = x[:ntr,:]\n",
    "y_tr = y[:ntr]\n",
    "x_ts = x[ntr:,:]\n",
    "y_ts = y[ntr:]\n",
    "\n",
    "K.clear_session()\n",
    "\n",
    "nin = x.shape[1]\n",
    "nout = int(np.max(y)+1) \n",
    "model = Sequential()\n",
    "model.add(Dense(100, input_shape=(nin,), activation='sigmoid', name='hidden'))\n",
    "model.add(Dense(nout, activation='softmax', name='output'))\n",
    "\n",
    "model.summary()\n",
    "\n",
    "opt = optimizers.Adam(lr=0.001) # beta_1=0.9, beta_2=0.999, epsilon=1e-08, decay=0.0)\n",
    "model.compile(optimizer=opt,\n",
    "              loss='sparse_categorical_crossentropy',\n",
    "              metrics=['accuracy'])\n",
    "model.fit(x_tr, y_tr, epochs=10, batch_size=100, validation_data=(x_ts,y_ts))"
   ]
  },
  {
   "cell_type": "code",
   "execution_count": 9,
   "metadata": {},
   "outputs": [
    {
     "name": "stderr",
     "output_type": "stream",
     "text": [
      "C:\\Users\\kimmy\\Miniconda2\\envs\\py35\\lib\\site-packages\\ipykernel_launcher.py:22: RuntimeWarning: overflow encountered in multiply\n",
      "C:\\Users\\kimmy\\Miniconda2\\envs\\py35\\lib\\site-packages\\ipykernel_launcher.py:23: RuntimeWarning: overflow encountered in multiply\n"
     ]
    },
    {
     "name": "stdout",
     "output_type": "stream",
     "text": [
      "_________________________________________________________________\n",
      "Layer (type)                 Output Shape              Param #   \n",
      "=================================================================\n",
      "hidden (Dense)               (None, 100)               5700      \n",
      "_________________________________________________________________\n",
      "output (Dense)               (None, 100)               10100     \n",
      "=================================================================\n",
      "Total params: 15,800\n",
      "Trainable params: 15,800\n",
      "Non-trainable params: 0\n",
      "_________________________________________________________________\n",
      "Train on 82317 samples, validate on 27442 samples\n",
      "Epoch 1/10\n",
      "82317/82317 [==============================] - 14s 175us/step - loss: 1.1260 - acc: 0.8115 - val_loss: 1.1626 - val_acc: 0.8507\n",
      "Epoch 2/10\n",
      "82317/82317 [==============================] - 13s 161us/step - loss: 0.8206 - acc: 0.8377 - val_loss: 1.2649 - val_acc: 0.8507\n",
      "Epoch 3/10\n",
      "82317/82317 [==============================] - 14s 165us/step - loss: 0.7478 - acc: 0.8375 - val_loss: 1.3234 - val_acc: 0.8507\n",
      "Epoch 4/10\n",
      "82317/82317 [==============================] - 14s 168us/step - loss: 0.6966 - acc: 0.8383 - val_loss: 1.3857 - val_acc: 0.8484\n",
      "Epoch 5/10\n",
      "82317/82317 [==============================] - 14s 174us/step - loss: 0.6562 - acc: 0.8400 - val_loss: 1.4266 - val_acc: 0.8471\n",
      "Epoch 6/10\n",
      "82317/82317 [==============================] - 13s 154us/step - loss: 0.6336 - acc: 0.8427 - val_loss: 1.4539 - val_acc: 0.8477\n",
      "Epoch 7/10\n",
      "82317/82317 [==============================] - 16s 190us/step - loss: 0.6023 - acc: 0.8462 - val_loss: 1.4962 - val_acc: 0.8425\n",
      "Epoch 8/10\n",
      "82317/82317 [==============================] - 13s 161us/step - loss: 0.5840 - acc: 0.8478 - val_loss: 1.5124 - val_acc: 0.8429\n",
      "Epoch 9/10\n",
      "82317/82317 [==============================] - 15s 178us/step - loss: 0.5740 - acc: 0.8471 - val_loss: 1.5310 - val_acc: 0.8440\n",
      "Epoch 10/10\n",
      "82317/82317 [==============================] - 19s 231us/step - loss: 0.5485 - acc: 0.8510 - val_loss: 1.5736 - val_acc: 0.8319\n"
     ]
    },
    {
     "data": {
      "text/plain": [
       "array([[  9.61321652e-01,   7.16299496e-07,   1.32766766e-08, ...,\n",
       "          3.06240562e-03,   3.16649297e-04,   1.41191634e-03],\n",
       "       [  9.61710572e-01,   7.02403611e-07,   1.31067921e-08, ...,\n",
       "          3.04382667e-03,   3.07429349e-04,   1.38284580e-03],\n",
       "       [  9.61956501e-01,   6.93624145e-07,   1.29988438e-08, ...,\n",
       "          3.03194881e-03,   3.01652268e-04,   1.36449654e-03],\n",
       "       ..., \n",
       "       [  5.71449041e-01,   1.20806840e-06,   2.20633498e-10, ...,\n",
       "          2.30919309e-02,   8.33330024e-03,   1.60663333e-02],\n",
       "       [  8.04447174e-01,   6.74074181e-05,   6.10160305e-06, ...,\n",
       "          2.39852946e-02,   6.90907566e-03,   1.16449147e-02],\n",
       "       [  9.81507182e-01,   9.75295507e-07,   3.34852990e-09, ...,\n",
       "          3.08734318e-03,   1.00880978e-03,   1.58879708e-03]], dtype=float32)"
      ]
     },
     "execution_count": 9,
     "metadata": {},
     "output_type": "execute_result"
    }
   ],
   "source": [
    "# neural(df)"
   ]
  },
  {
   "cell_type": "code",
   "execution_count": 14,
   "metadata": {},
   "outputs": [],
   "source": [
    "y_pred = model.predict(x_ts)"
   ]
  },
  {
   "cell_type": "code",
   "execution_count": null,
   "metadata": {
    "collapsed": true
   },
   "outputs": [],
   "source": []
  },
  {
   "cell_type": "code",
   "execution_count": 16,
   "metadata": {},
   "outputs": [
    {
     "data": {
      "text/plain": [
       "(27442, 100)"
      ]
     },
     "execution_count": 16,
     "metadata": {},
     "output_type": "execute_result"
    }
   ],
   "source": [
    "y_pred.shape"
   ]
  },
  {
   "cell_type": "code",
   "execution_count": 17,
   "metadata": {},
   "outputs": [
    {
     "data": {
      "text/plain": [
       "(27442,)"
      ]
     },
     "execution_count": 17,
     "metadata": {},
     "output_type": "execute_result"
    }
   ],
   "source": [
    "y_ts.shape"
   ]
  },
  {
   "cell_type": "code",
   "execution_count": 33,
   "metadata": {
    "scrolled": true
   },
   "outputs": [
    {
     "data": {
      "image/png": "[encoded data removed]",
      "text/plain": [
       "<matplotlib.figure.Figure at 0x25d0bc48390>"
      ]
     },
     "metadata": {},
     "output_type": "display_data"
    }
   ],
   "source": [
    "plt.scatter(y_ts,y_pred[:,9])\n",
    "plt.show()"
   ]
  },
  {
   "cell_type": "code",
   "execution_count": 34,
   "metadata": {},
   "outputs": [
    {
     "data": {
      "text/plain": [
       "(27442, 56)"
      ]
     },
     "execution_count": 34,
     "metadata": {},
     "output_type": "execute_result"
    }
   ],
   "source": [
    "x_ts.shape"
   ]
  },
  {
   "cell_type": "code",
   "execution_count": 42,
   "metadata": {},
   "outputs": [
    {
     "data": {
      "text/plain": [
       "(27442,)"
      ]
     },
     "execution_count": 42,
     "metadata": {},
     "output_type": "execute_result"
    }
   ],
   "source": [
    "y_ts.shape"
   ]
  },
  {
   "cell_type": "code",
   "execution_count": 46,
   "metadata": {},
   "outputs": [
    {
     "data": {
      "text/plain": [
       "(109759,)"
      ]
     },
     "execution_count": 46,
     "metadata": {},
     "output_type": "execute_result"
    }
   ],
   "source": [
    "y.shape"
   ]
  },
  {
   "cell_type": "code",
   "execution_count": 47,
   "metadata": {},
   "outputs": [
    {
     "data": {
      "text/plain": [
       "(109759, 56)"
      ]
     },
     "execution_count": 47,
     "metadata": {},
     "output_type": "execute_result"
    }
   ],
   "source": [
    "x.shape"
   ]
  },
  {
   "cell_type": "code",
   "execution_count": 49,
   "metadata": {},
   "outputs": [
    {
     "data": {
      "text/plain": [
       "(3191,)"
      ]
     },
     "execution_count": 49,
     "metadata": {},
     "output_type": "execute_result"
    }
   ],
   "source": [
    "np.array((pd.to_numeric(df['Number of survivors']) / df['total people']).fillna(0)).shape"
   ]
  }
 ],
 "metadata": {
  "kernelspec": {
   "display_name": "Python 3",
   "language": "python",
   "name": "python3"
  },
  "language_info": {
   "codemirror_mode": {
    "name": "ipython",
    "version": 3
   },
   "file_extension": ".py",
   "mimetype": "text/x-python",
   "name": "python",
   "nbconvert_exporter": "python",
   "pygments_lexer": "ipython3",
   "version": "3.5.4"
  }
 },
 "nbformat": 4,
 "nbformat_minor": 1
}
