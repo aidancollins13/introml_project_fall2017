{
 "cells": [
  {
   "cell_type": "code",
   "execution_count": 50,
   "metadata": {
    "collapsed": true
   },
   "outputs": [],
   "source": [
    "import numpy as np\n",
    "import pandas as pd\n",
    "import matplotlib.pyplot as plt\n",
    "import math"
   ]
  },
  {
   "cell_type": "code",
   "execution_count": 51,
   "metadata": {
    "collapsed": true
   },
   "outputs": [],
   "source": [
    "#creating whole dataset\n",
    "seventeen = pd.read_json(\"https://missingmigrants.iom.int/global-figures/2017/json\")\n",
    "sixteen = pd.read_json(\"https://missingmigrants.iom.int/global-figures/2016/json\")\n",
    "fifteen = pd.read_json(\"https://missingmigrants.iom.int/global-figures/2015/json\")\n",
    "fourteen = pd.read_json(\"https://missingmigrants.iom.int/global-figures/2014/json\")"
   ]
  },
  {
   "cell_type": "code",
   "execution_count": 52,
   "metadata": {
    "collapsed": true
   },
   "outputs": [],
   "source": [
    "frames = [seventeen,sixteen,fifteen,fourteen]\n",
    "df = pd.concat(frames)"
   ]
  },
  {
   "cell_type": "code",
   "execution_count": 53,
   "metadata": {},
   "outputs": [],
   "source": [
    "#cleaning data\n",
    "df = df.replace('', 0,regex=True)\n",
    "df = df.replace('nan', 0, regex=True)\n",
    "df.drop(['Information Source'])\n",
    "df = df[df['Web ID'] != 42424] #drops row with -1 as number of survivors\n",
    "\n",
    "df['Reported Date'] = pd.to_datetime(df['Reported Date'])\n",
    "df['total people'] = pd.to_numeric(df['Number of survivors']) + pd.to_numeric(df['Total Dead and Missing'])\n",
    "df['percent female'] = (pd.to_numeric(df['Number of Female'])/ df['total people']).fillna(0)\n",
    "df['percent male'] =  (pd.to_numeric(df['Number of Male'])/ df['total people']).fillna(0)\n",
    "df['percent kids'] =  (pd.to_numeric(df['Number of Children']) / df['total people']).fillna(0)\n",
    "df['month'] = df['Reported Date'].dt.month\n",
    "df['day'] = df['Reported Date'].dt.day\n",
    "\n",
    "#latitude and longitude to cartesian\n",
    "R = 6371\n",
    "df['x'] = df['Location'].apply(lambda latLong: R*math.cos(float(latLong.split(\", \")[0]))*math.cos(float(latLong.split(\", \")[1])))\n",
    "df['y'] = df['Location'].apply(lambda latLong: R*math.cos(float(latLong.split(\", \")[0]))*math.sin(float(latLong.split(\", \")[1])))\n",
    "df['z'] = df['Location'].apply(lambda latLong: R*math.sin(float(latLong.split(\", \")[0])))"
   ]
  },
  {
   "cell_type": "code",
   "execution_count": 54,
   "metadata": {
    "collapsed": true
   },
   "outputs": [],
   "source": [
    "#separating data\n",
    "# fourteen = df[(df['Reported Date'] >= '2014-01-01') & (df['Reported Date'] < '2015-01-01')]\n",
    "# fifteen = df[(df['Reported Date'] >= '2015-01-01') & (df['Reported Date'] < '2016-01-01')]\n",
    "# sixteen = df[(df['Reported Date'] >= '2016-01-01') & (df['Reported Date'] < '2017-01-01')]\n",
    "# seventeen = df[(df['Reported Date'] >= '2017-01-01') & (df['Reported Date'] < '2018-01-01')]"
   ]
  },
  {
   "cell_type": "code",
   "execution_count": 55,
   "metadata": {
    "collapsed": true
   },
   "outputs": [],
   "source": [
    "from sklearn import linear_model\n",
    "from sklearn.model_selection import ShuffleSplit"
   ]
  },
  {
   "cell_type": "code",
   "execution_count": 56,
   "metadata": {
    "collapsed": true
   },
   "outputs": [],
   "source": [
    "def linear(dataframe):\n",
    "    # the index will help us get back from number to category later\n",
    "    dataframe['UNSD Geographical Grouping'], geoIndex = pd.Series(dataframe['UNSD Geographical Grouping']).factorize()\n",
    "    dataframe['Migrant Route'], migrantIndex = pd.Series(dataframe['Migrant Route']).factorize()\n",
    "    dataframe['Region of Incident'], regionIndex = pd.Series(dataframe['Region of Incident']).factorize()\n",
    "\n",
    "    y = np.array((pd.to_numeric(dataframe['Number of survivors']) / dataframe['total people']).fillna(0))\n",
    "    y = np.nan_to_num(y)\n",
    "    y[y == np.abs(np.inf)] = 0\n",
    "    \n",
    "    y = (100*y).astype(int)\n",
    "\n",
    "\n",
    "    x = np.array(dataframe[['UNSD Geographical Grouping', 'Migrant Route', 'Region of Incident', 'percent female',\n",
    "                     'percent kids', 'percent male', 'month', 'day']])\n",
    "    x = np.nan_to_num(x)\n",
    "\n",
    "    x[:,3] = (100*x[:,3]).astype(int)\n",
    "    x[:,4] = (100*x[:,4]).astype(int)\n",
    "    x[:,2] = (100*x[:,2]).astype(int)\n",
    "\n",
    "\n",
    "    rs = ShuffleSplit(n_splits=3, test_size=.25, random_state=0)\n",
    "\n",
    "    for train_index, test_index in rs.split(x):\n",
    "        regr = linear_model.LinearRegression()\n",
    "        regr.fit(x[train_index],y[train_index])\n",
    "        print(\"train: \", regr.score(x[train_index],y[train_index]) )\n",
    "        print(\"test: \", regr.score(x[test_index],y[test_index]))\n",
    "    print()"
   ]
  },
  {
   "cell_type": "code",
   "execution_count": 57,
   "metadata": {},
   "outputs": [
    {
     "name": "stderr",
     "output_type": "stream",
     "text": [
      "C:\\Users\\kimmy\\Miniconda2\\envs\\py35\\lib\\site-packages\\ipykernel_launcher.py:18: RuntimeWarning: overflow encountered in multiply\n",
      "C:\\Users\\kimmy\\Miniconda2\\envs\\py35\\lib\\site-packages\\ipykernel_launcher.py:19: RuntimeWarning: overflow encountered in multiply\n"
     ]
    },
    {
     "name": "stdout",
     "output_type": "stream",
     "text": [
      "train:  0.189575694258\n",
      "test:  0.173185902101\n",
      "train:  0.181848515751\n",
      "test:  0.191545532187\n",
      "train:  0.181317381178\n",
      "test:  0.200121181546\n",
      "\n",
      "train:  0.328144743217\n",
      "test:  0.414092450658\n",
      "train:  0.391303557173\n",
      "test:  0.160383453985\n",
      "train:  0.366127206034\n",
      "test:  0.318608173157\n",
      "\n"
     ]
    },
    {
     "name": "stderr",
     "output_type": "stream",
     "text": [
      "C:\\Users\\kimmy\\Miniconda2\\envs\\py35\\lib\\site-packages\\ipykernel_launcher.py:3: SettingWithCopyWarning: \n",
      "A value is trying to be set on a copy of a slice from a DataFrame.\n",
      "Try using .loc[row_indexer,col_indexer] = value instead\n",
      "\n",
      "See the caveats in the documentation: http://pandas.pydata.org/pandas-docs/stable/indexing.html#indexing-view-versus-copy\n",
      "  This is separate from the ipykernel package so we can avoid doing imports until\n",
      "C:\\Users\\kimmy\\Miniconda2\\envs\\py35\\lib\\site-packages\\ipykernel_launcher.py:4: SettingWithCopyWarning: \n",
      "A value is trying to be set on a copy of a slice from a DataFrame.\n",
      "Try using .loc[row_indexer,col_indexer] = value instead\n",
      "\n",
      "See the caveats in the documentation: http://pandas.pydata.org/pandas-docs/stable/indexing.html#indexing-view-versus-copy\n",
      "  after removing the cwd from sys.path.\n",
      "C:\\Users\\kimmy\\Miniconda2\\envs\\py35\\lib\\site-packages\\ipykernel_launcher.py:5: SettingWithCopyWarning: \n",
      "A value is trying to be set on a copy of a slice from a DataFrame.\n",
      "Try using .loc[row_indexer,col_indexer] = value instead\n",
      "\n",
      "See the caveats in the documentation: http://pandas.pydata.org/pandas-docs/stable/indexing.html#indexing-view-versus-copy\n",
      "  \"\"\"\n"
     ]
    }
   ],
   "source": [
    "linearFrame = df.copy(deep=True) #as to keep same df for later use\n",
    "\n",
    "linear(linearFrame)\n",
    "linear(linearFrame[linearFrame['UNSD Geographical Grouping'] == geoIndex.get_loc('Central America')])"
   ]
  },
  {
   "cell_type": "code",
   "execution_count": 58,
   "metadata": {
    "collapsed": true
   },
   "outputs": [],
   "source": [
    "import keras\n",
    "from keras.models import Model,Sequential\n",
    "from keras.layers import Dense,Activation\n",
    "import keras.backend as K\n",
    "from sklearn.model_selection import train_test_split\n",
    "from keras import optimizers"
   ]
  },
  {
   "cell_type": "code",
   "execution_count": 59,
   "metadata": {},
   "outputs": [],
   "source": [
    "def neural(dataframe):\n",
    "    ohc_UNSD = pd.get_dummies(dataframe['UNSD Geographical Grouping'],prefix='UNSD')\n",
    "    ohc_Route = pd.get_dummies(dataframe['Migrant Route'],prefix='Route')\n",
    "    ohc_Region = pd.get_dummies(dataframe['Region of Incident'],prefix='Region')\n",
    "\n",
    "    #makes a copy of dataframe,  does not alter it\n",
    "    frame = dataframe.join(ohc_UNSD)\n",
    "    frame = frame.join(ohc_Region)\n",
    "    frame = frame.join(ohc_Route)\n",
    "\n",
    "    y = np.array((pd.to_numeric(frame['Number of survivors']) / frame['total people']).fillna(0))\n",
    "    y = np.nan_to_num(y)\n",
    "    y[y == np.abs(np.inf)] = 0\n",
    "    \n",
    "    y = (100*y).astype(int)\n",
    "\n",
    "\n",
    "    x = np.array(frame[['percent female', 'percent kids', 'percent male', 'day','month','x','y','z']])\n",
    "    x = np.column_stack((x,np.array(frame.loc[:,'UNSD_0':])))\n",
    "    \n",
    "    x = np.nan_to_num(x)\n",
    "    x[:,0] = (100*x[:,0]).astype(int)\n",
    "    x[:,1] = (100*x[:,1]).astype(int)\n",
    "    x[:,2] = (100*x[:,2]).astype(int)\n",
    "    \n",
    "    ntr = len(y)//4 *3\n",
    "    x_tr = x[:ntr,:]\n",
    "    y_tr = y[:ntr]\n",
    "    x_ts = x[ntr:,:]\n",
    "    y_ts = y[ntr:]\n",
    "    \n",
    "    K.clear_session()\n",
    "    \n",
    "    nin = x.shape[1]\n",
    "    nout = int(np.max(y)+1) \n",
    "    model = Sequential()\n",
    "    model.add(Dense(100, input_shape=(nin,), activation='sigmoid', name='hidden'))\n",
    "    model.add(Dense(nout, activation='softmax', name='output'))\n",
    "\n",
    "    model.summary()\n",
    "    \n",
    "    opt = optimizers.Adam(lr=0.001) # beta_1=0.9, beta_2=0.999, epsilon=1e-08, decay=0.0)\n",
    "    model.compile(optimizer=opt,\n",
    "                  loss='sparse_categorical_crossentropy',\n",
    "                  metrics=['accuracy'])\n",
    "    model.fit(x_tr, y_tr, epochs=10, batch_size=100, validation_data=(x_ts,y_ts))"
   ]
  },
  {
   "cell_type": "code",
   "execution_count": 60,
   "metadata": {},
   "outputs": [
    {
     "name": "stderr",
     "output_type": "stream",
     "text": [
      "C:\\Users\\kimmy\\Miniconda2\\envs\\py35\\lib\\site-packages\\ipykernel_launcher.py:22: RuntimeWarning: overflow encountered in multiply\n",
      "C:\\Users\\kimmy\\Miniconda2\\envs\\py35\\lib\\site-packages\\ipykernel_launcher.py:23: RuntimeWarning: overflow encountered in multiply\n"
     ]
    },
    {
     "name": "stdout",
     "output_type": "stream",
     "text": [
      "_________________________________________________________________\n",
      "Layer (type)                 Output Shape              Param #   \n",
      "=================================================================\n",
      "hidden (Dense)               (None, 100)               5700      \n",
      "_________________________________________________________________\n",
      "output (Dense)               (None, 100)               10100     \n",
      "=================================================================\n",
      "Total params: 15,800\n",
      "Trainable params: 15,800\n",
      "Non-trainable params: 0\n",
      "_________________________________________________________________\n",
      "Train on 82317 samples, validate on 27442 samples\n",
      "Epoch 1/10\n",
      "82317/82317 [==============================] - 22s 269us/step - loss: 1.0838 - acc: 0.8200 - val_loss: 1.1738 - val_acc: 0.8507\n",
      "Epoch 2/10\n",
      "82317/82317 [==============================] - 18s 214us/step - loss: 0.8188 - acc: 0.8377 - val_loss: 1.2738 - val_acc: 0.8507\n",
      "Epoch 3/10\n",
      "82317/82317 [==============================] - 18s 221us/step - loss: 0.7396 - acc: 0.8386 - val_loss: 1.3445 - val_acc: 0.8497\n",
      "Epoch 4/10\n",
      "82317/82317 [==============================] - 18s 213us/step - loss: 0.6833 - acc: 0.8400 - val_loss: 1.4069 - val_acc: 0.8487\n",
      "Epoch 5/10\n",
      "82317/82317 [==============================] - 17s 207us/step - loss: 0.6456 - acc: 0.8425 - val_loss: 1.4414 - val_acc: 0.8477\n",
      "Epoch 6/10\n",
      "82317/82317 [==============================] - 19s 230us/step - loss: 0.6190 - acc: 0.8444 - val_loss: 1.5016 - val_acc: 0.8464\n",
      "Epoch 7/10\n",
      "82317/82317 [==============================] - 21s 255us/step - loss: 0.5969 - acc: 0.8457 - val_loss: 1.5392 - val_acc: 0.8453\n",
      "Epoch 8/10\n",
      "82317/82317 [==============================] - 19s 233us/step - loss: 0.5756 - acc: 0.8482 - val_loss: 1.5663 - val_acc: 0.8438\n",
      "Epoch 9/10\n",
      "82317/82317 [==============================] - 20s 245us/step - loss: 0.5558 - acc: 0.8493 - val_loss: 1.5995 - val_acc: 0.8401\n",
      "Epoch 10/10\n",
      "82317/82317 [==============================] - 18s 222us/step - loss: 0.5426 - acc: 0.8506 - val_loss: 1.6241 - val_acc: 0.8349\n"
     ]
    }
   ],
   "source": [
    "neural(df)"
   ]
  }
 ],
 "metadata": {
  "kernelspec": {
   "display_name": "Python 3",
   "language": "python",
   "name": "python3"
  },
  "language_info": {
   "codemirror_mode": {
    "name": "ipython",
    "version": 3
   },
   "file_extension": ".py",
   "mimetype": "text/x-python",
   "name": "python",
   "nbconvert_exporter": "python",
   "pygments_lexer": "ipython3",
   "version": "3.5.4"
  }
 },
 "nbformat": 4,
 "nbformat_minor": 1
}
