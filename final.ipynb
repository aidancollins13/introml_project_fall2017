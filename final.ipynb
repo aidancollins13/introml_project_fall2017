{
 "cells": [
  {
   "cell_type": "code",
   "execution_count": 1,
   "metadata": {
    "collapsed": true
   },
   "outputs": [],
   "source": [
    "import numpy as np\n",
    "import pandas as pd\n",
    "import matplotlib.pyplot as plt\n",
    "from sklearn import linear_model\n",
    "from sklearn.model_selection import ShuffleSplit"
   ]
  },
  {
   "cell_type": "code",
   "execution_count": 2,
   "metadata": {
    "collapsed": true
   },
   "outputs": [],
   "source": [
    "#creating whole dataset\n",
    "seventeen = pd.read_json(\"https://missingmigrants.iom.int/global-figures/2017/json\")\n",
    "sixteen = pd.read_json(\"https://missingmigrants.iom.int/global-figures/2016/json\")\n",
    "fifteen = pd.read_json(\"https://missingmigrants.iom.int/global-figures/2015/json\")\n",
    "fourteen = pd.read_json(\"https://missingmigrants.iom.int/global-figures/2014/json\")\n",
    "\n",
    "frames = [seventeen,sixteen,fifteen,fourteen]\n",
    "\n",
    "df = pd.concat(frames)"
   ]
  },
  {
   "cell_type": "code",
   "execution_count": 3,
   "metadata": {
    "collapsed": true
   },
   "outputs": [],
   "source": [
    "#cleaning data\n",
    "df = df.replace('', 0,regex=True)\n",
    "df = df.replace('nan', 0, regex=True)\n",
    "df.drop(['Information Source'])\n",
    "\n",
    "df['Reported Date'] = pd.to_datetime(df['Reported Date'])\n",
    "# the index will help us get back from number to category later\n",
    "df['UNSD Geographical Grouping'], geoIndex = pd.Series(df['UNSD Geographical Grouping']).factorize()\n",
    "df['Migrant Route'], migrantIndex = pd.Series(df['Migrant Route']).factorize()\n",
    "df['Region of Incident'], regionIndex = pd.Series(df['Region of Incident']).factorize()"
   ]
  },
  {
   "cell_type": "code",
   "execution_count": 4,
   "metadata": {},
   "outputs": [
    {
     "name": "stdout",
     "output_type": "stream",
     "text": [
      "['Cause of death' 'Information Reliability' 'Information Source' 'Location'\n",
      " 'Location Description' 'Migrant Route' 'Number Dead' 'Number Missing'\n",
      " 'Number of Children' 'Number of Female' 'Number of Male'\n",
      " 'Number of survivors' 'Region of Incident' 'Reported Date'\n",
      " 'Total Dead and Missing' 'UNSD Geographical Grouping' 'URL' 'Web ID']\n"
     ]
    }
   ],
   "source": [
    "#separating data\n",
    "fourteen = df[(df['Reported Date'] >= '2014-01-01') & (df['Reported Date'] < '2015-01-01')]\n",
    "fifteen = df[(df['Reported Date'] >= '2015-01-01') & (df['Reported Date'] < '2016-01-01')]\n",
    "sixteen = df[(df['Reported Date'] >= '2016-01-01') & (df['Reported Date'] < '2017-01-01')]\n",
    "seventeen = df[(df['Reported Date'] >= '2017-01-01') & (df['Reported Date'] < '2018-01-01')]\n",
    "\n",
    "# print(fourteen.shape)\n",
    "print(fourteen.columns.values)"
   ]
  },
  {
   "cell_type": "code",
   "execution_count": 5,
   "metadata": {},
   "outputs": [
    {
     "name": "stderr",
     "output_type": "stream",
     "text": [
      "/usr/lib/python3.6/site-packages/ipykernel_launcher.py:3: RuntimeWarning: divide by zero encountered in true_divide\n",
      "  This is separate from the ipykernel package so we can avoid doing imports until\n",
      "/usr/lib/python3.6/site-packages/ipykernel_launcher.py:3: RuntimeWarning: invalid value encountered in true_divide\n",
      "  This is separate from the ipykernel package so we can avoid doing imports until\n",
      "/usr/lib/python3.6/site-packages/ipykernel_launcher.py:6: RuntimeWarning: overflow encountered in multiply\n",
      "  \n"
     ]
    },
    {
     "data": {
      "text/plain": [
       "array([3, 0, 0], dtype=object)"
      ]
     },
     "execution_count": 5,
     "metadata": {},
     "output_type": "execute_result"
    }
   ],
   "source": [
    "total_data = np.concatenate((np.array(fourteen),np.array(fifteen),np.array(sixteen),np.array(seventeen)))\n",
    "np.random.shuffle(total_data)\n",
    "y = total_data[:,11].astype(int) / (total_data[:,14].astype(int) + total_data[:,11].astype(int)) \n",
    "# y is what we predict -- total sruvivors over total survivors+missing and dead \n",
    "y = np.nan_to_num(y)\n",
    "y = (100*y).astype(int)\n",
    "x = np.column_stack((total_data[:,5], total_data[:,12],total_data[:,15]))\n",
    "# x is the parts of the data we are using to predict Location, route, region, and Geographical Grouping\n",
    "x[1]"
   ]
  },
  {
   "cell_type": "code",
   "execution_count": 6,
   "metadata": {
    "collapsed": true
   },
   "outputs": [],
   "source": [
    "train = 2000\n",
    "x_tr = x[:train,:]\n",
    "y_tr = y[:train]\n",
    "x_ts = x[train:,:]\n",
    "y_ts = y[train:]\n",
    "from sklearn import linear_model\n"
   ]
  },
  {
   "cell_type": "code",
   "execution_count": 7,
   "metadata": {},
   "outputs": [
    {
     "data": {
      "text/plain": [
       "LinearRegression(copy_X=True, fit_intercept=True, n_jobs=1, normalize=False)"
      ]
     },
     "execution_count": 7,
     "metadata": {},
     "output_type": "execute_result"
    }
   ],
   "source": [
    "regr = linear_model.LinearRegression()\n",
    "regr.fit(x_tr,y_tr)"
   ]
  },
  {
   "cell_type": "code",
   "execution_count": 8,
   "metadata": {},
   "outputs": [
    {
     "data": {
      "text/plain": [
       "array([ 2.85050417,  0.04910422, -1.05549122])"
      ]
     },
     "execution_count": 8,
     "metadata": {},
     "output_type": "execute_result"
    }
   ],
   "source": [
    "regr.coef_"
   ]
  },
  {
   "cell_type": "code",
   "execution_count": 9,
   "metadata": {},
   "outputs": [
    {
     "name": "stdout",
     "output_type": "stream",
     "text": [
      "RSS: = 0.919873\n",
      "R^2: = 0.080127\n",
      "R^2= 0.080127\n"
     ]
    }
   ],
   "source": [
    "#training data\n",
    "y_pred_tr = regr.predict(x_tr)\n",
    "RSS = np.mean((y_pred_tr - y_tr) **2)/(np.std(y_tr)**2)\n",
    "print(\"RSS: = {0:f}\".format(RSS))\n",
    "print(\"R^2: = {0:f}\".format(1-RSS))\n",
    "print(\"R^2= {0:f}\".format(regr.score(x_tr,y_tr)))"
   ]
  },
  {
   "cell_type": "code",
   "execution_count": 10,
   "metadata": {},
   "outputs": [
    {
     "name": "stdout",
     "output_type": "stream",
     "text": [
      "RSS: = 1.000847\n",
      "R^2: = -0.000847\n",
      "0 10.2247358759\n",
      "0 10.2247358759\n",
      "0 10.2247358759\n",
      "47 16.9321312111\n",
      "0 10.2247358759\n",
      "0 10.2247358759\n",
      "0 1.06904449152\n",
      "0 10.2247358759\n",
      "0 10.2247358759\n",
      "0 10.2247358759\n",
      "0 10.2247358759\n",
      "0 24.3670784761\n",
      "0 10.2247358759\n",
      "0 10.2247358759\n",
      "0 10.2247358759\n",
      "0 3.13092270157\n",
      "0 10.2247358759\n",
      "0 10.2247358759\n",
      "0 3.13092270157\n",
      "0 10.2247358759\n",
      "0 3.13092270157\n",
      "0 10.2247358759\n",
      "0 10.2247358759\n",
      "0 10.2247358759\n",
      "0 10.2247358759\n",
      "0 10.2247358759\n",
      "0 10.2247358759\n",
      "0 10.2247358759\n",
      "0 10.2247358759\n",
      "0 10.2247358759\n",
      "0 10.2247358759\n",
      "0 10.2247358759\n",
      "0 10.2247358759\n",
      "0 4.18641391877\n",
      "0 10.2247358759\n",
      "0 10.2247358759\n",
      "0 10.2247358759\n",
      "0 10.2247358759\n",
      "0 10.2247358759\n",
      "0 10.2247358759\n",
      "0 10.2247358759\n",
      "0 10.2247358759\n",
      "0 10.2247358759\n",
      "0 10.2247358759\n",
      "0 10.2247358759\n",
      "0 10.2247358759\n",
      "0 10.2247358759\n",
      "0 10.2247358759\n",
      "0 1.98659736303\n",
      "0 10.2247358759\n",
      "0 10.2247358759\n",
      "0 10.2247358759\n",
      "0 10.2247358759\n",
      "0 10.2247358759\n",
      "0 10.2247358759\n",
      "0 10.2247358759\n",
      "0 10.2247358759\n",
      "0 10.2247358759\n",
      "0 10.2247358759\n",
      "0 10.2247358759\n",
      "0 10.2247358759\n",
      "0 10.2247358759\n",
      "0 10.2247358759\n",
      "0 10.2247358759\n",
      "0 10.2247358759\n",
      "0 10.2247358759\n",
      "0 10.2247358759\n",
      "0 10.2247358759\n",
      "0 10.2247358759\n",
      "0 10.2247358759\n",
      "0 10.2247358759\n",
      "0 10.2247358759\n",
      "0 10.2247358759\n",
      "0 4.33372659177\n",
      "0 10.2247358759\n",
      "0 10.2247358759\n",
      "0 10.2247358759\n",
      "0 10.2247358759\n",
      "0 10.2247358759\n",
      "0 10.2247358759\n",
      "0 1.06904449152\n",
      "0 10.2247358759\n",
      "0 10.2247358759\n",
      "0 10.2247358759\n",
      "0 10.2247358759\n",
      "0 1.06904449152\n",
      "0 10.2247358759\n",
      "0 10.2247358759\n",
      "0 10.2247358759\n",
      "0 10.2247358759\n",
      "0 10.2247358759\n",
      "0 10.2247358759\n",
      "0 10.2247358759\n",
      "0 10.2247358759\n",
      "0 10.2247358759\n",
      "0 10.2247358759\n",
      "0 10.2247358759\n",
      "0 10.2247358759\n",
      "0 10.2247358759\n",
      "0 10.2247358759\n",
      "0 10.2247358759\n",
      "0 10.2247358759\n",
      "0 9.31655733174\n",
      "0 10.2247358759\n",
      "0 1.06904449152\n",
      "0 10.2247358759\n",
      "0 10.2247358759\n",
      "0 10.2247358759\n",
      "0 10.2247358759\n",
      "0 10.2247358759\n",
      "0 11.2802270931\n",
      "0 10.2247358759\n",
      "0 10.2247358759\n",
      "0 10.2247358759\n",
      "0 10.2247358759\n",
      "0 10.2247358759\n",
      "0 10.2247358759\n",
      "0 10.2247358759\n",
      "0 10.2247358759\n",
      "0 10.2247358759\n",
      "0 1.06904449152\n",
      "0 10.2247358759\n",
      "0 10.2247358759\n",
      "0 10.2247358759\n",
      "0 10.2247358759\n",
      "0 1.06904449152\n",
      "0 10.2247358759\n",
      "0 10.2247358759\n",
      "0 10.2247358759\n",
      "0 10.2247358759\n",
      "0 10.2247358759\n",
      "0 10.2247358759\n",
      "0 10.2247358759\n",
      "0 10.2247358759\n",
      "0 10.2247358759\n",
      "0 10.2247358759\n",
      "0 10.2247358759\n",
      "0 10.2247358759\n",
      "0 10.2247358759\n",
      "0 10.2247358759\n",
      "0 10.2247358759\n",
      "0 10.2247358759\n",
      "0 1.06904449152\n",
      "0 10.2247358759\n",
      "0 10.2247358759\n",
      "0 10.2247358759\n",
      "0 10.2247358759\n",
      "0 10.2247358759\n",
      "0 3.13092270157\n",
      "0 10.2247358759\n",
      "0 10.2247358759\n",
      "0 10.2247358759\n",
      "0 10.2247358759\n",
      "0 10.2247358759\n",
      "0 10.2247358759\n",
      "0 10.2247358759\n",
      "0 10.2247358759\n",
      "0 10.2247358759\n",
      "0 4.33372659177\n",
      "0 10.2247358759\n",
      "0 10.2247358759\n",
      "0 10.2247358759\n",
      "0 10.2247358759\n",
      "0 10.2247358759\n",
      "0 10.2247358759\n",
      "0 10.2247358759\n",
      "0 10.2247358759\n",
      "0 10.2247358759\n",
      "0 10.2247358759\n",
      "0 10.2247358759\n",
      "0 10.2247358759\n",
      "0 10.2247358759\n",
      "0 10.2247358759\n",
      "0 10.2247358759\n",
      "0 1.06904449152\n",
      "0 1.06904449152\n",
      "0 10.2247358759\n",
      "0 16.9321312111\n",
      "0 1.06904449152\n",
      "0 10.2247358759\n",
      "0 10.2247358759\n",
      "0 10.2247358759\n",
      "0 10.2247358759\n",
      "0 10.2247358759\n",
      "0 10.2247358759\n",
      "0 10.2247358759\n",
      "0 10.2247358759\n",
      "0 10.2247358759\n",
      "0 10.2247358759\n",
      "0 10.2247358759\n",
      "0 10.2247358759\n",
      "0 10.2247358759\n",
      "0 10.2247358759\n",
      "0 10.2247358759\n",
      "0 10.2247358759\n",
      "0 10.2247358759\n"
     ]
    },
    {
     "ename": "IndexError",
     "evalue": "index -9223372036854775808 is out of bounds for axis 0 with size 1182",
     "output_type": "error",
     "traceback": [
      "\u001b[0;31m---------------------------------------------------------------------------\u001b[0m",
      "\u001b[0;31mIndexError\u001b[0m                                Traceback (most recent call last)",
      "\u001b[0;32m<ipython-input-10-7aaff8004aeb>\u001b[0m in \u001b[0;36m<module>\u001b[0;34m()\u001b[0m\n\u001b[1;32m      6\u001b[0m \u001b[0mprint\u001b[0m\u001b[0;34m(\u001b[0m\u001b[0;34m\"R^2: = {0:f}\"\u001b[0m\u001b[0;34m.\u001b[0m\u001b[0mformat\u001b[0m\u001b[0;34m(\u001b[0m\u001b[0;36m1\u001b[0m\u001b[0;34m-\u001b[0m\u001b[0mRSS\u001b[0m\u001b[0;34m)\u001b[0m\u001b[0;34m)\u001b[0m\u001b[0;34m\u001b[0m\u001b[0m\n\u001b[1;32m      7\u001b[0m \u001b[0;32mfor\u001b[0m \u001b[0mi\u001b[0m \u001b[0;32min\u001b[0m \u001b[0my_ts\u001b[0m\u001b[0;34m:\u001b[0m\u001b[0;34m\u001b[0m\u001b[0m\n\u001b[0;32m----> 8\u001b[0;31m     \u001b[0mprint\u001b[0m\u001b[0;34m(\u001b[0m\u001b[0my_ts\u001b[0m\u001b[0;34m[\u001b[0m\u001b[0mi\u001b[0m\u001b[0;34m]\u001b[0m\u001b[0;34m,\u001b[0m\u001b[0my_pred_ts\u001b[0m\u001b[0;34m[\u001b[0m\u001b[0mi\u001b[0m\u001b[0;34m]\u001b[0m\u001b[0;34m)\u001b[0m\u001b[0;34m\u001b[0m\u001b[0m\n\u001b[0m",
      "\u001b[0;31mIndexError\u001b[0m: index -9223372036854775808 is out of bounds for axis 0 with size 1182"
     ]
    }
   ],
   "source": [
    "#test data\n",
    "y_pred_ts = regr.predict(x_ts)\n",
    "\n",
    "RSS = np.mean((y_pred_ts - y_ts) **2)/(np.std(y_ts)**2)\n",
    "print(\"RSS: = {0:f}\".format(RSS))\n",
    "print(\"R^2: = {0:f}\".format(1-RSS))\n",
    "for i in y_ts:\n",
    "    print(y_ts[i],y_pred_ts[i])"
   ]
  },
  {
   "cell_type": "code",
   "execution_count": 28,
   "metadata": {},
   "outputs": [
    {
     "name": "stdout",
     "output_type": "stream",
     "text": [
      "train:  0.274998252266\n",
      "test:  -inf\n",
      "train:  0.000130349424127\n",
      "test:  -0.000251779490259\n",
      "train:  0.000119828594876\n",
      "test:  -0.00932093776954\n"
     ]
    },
    {
     "name": "stderr",
     "output_type": "stream",
     "text": [
      "/usr/lib/python3.6/site-packages/ipykernel_launcher.py:2: SettingWithCopyWarning: \n",
      "A value is trying to be set on a copy of a slice from a DataFrame.\n",
      "Try using .loc[row_indexer,col_indexer] = value instead\n",
      "\n",
      "See the caveats in the documentation: http://pandas.pydata.org/pandas-docs/stable/indexing.html#indexing-view-versus-copy\n",
      "  \n",
      "/usr/lib/python3.6/site-packages/ipykernel_launcher.py:5: SettingWithCopyWarning: \n",
      "A value is trying to be set on a copy of a slice from a DataFrame.\n",
      "Try using .loc[row_indexer,col_indexer] = value instead\n",
      "\n",
      "See the caveats in the documentation: http://pandas.pydata.org/pandas-docs/stable/indexing.html#indexing-view-versus-copy\n",
      "  \"\"\"\n",
      "/usr/lib/python3.6/site-packages/ipykernel_launcher.py:6: SettingWithCopyWarning: \n",
      "A value is trying to be set on a copy of a slice from a DataFrame.\n",
      "Try using .loc[row_indexer,col_indexer] = value instead\n",
      "\n",
      "See the caveats in the documentation: http://pandas.pydata.org/pandas-docs/stable/indexing.html#indexing-view-versus-copy\n",
      "  \n",
      "/usr/lib/python3.6/site-packages/ipykernel_launcher.py:7: SettingWithCopyWarning: \n",
      "A value is trying to be set on a copy of a slice from a DataFrame.\n",
      "Try using .loc[row_indexer,col_indexer] = value instead\n",
      "\n",
      "See the caveats in the documentation: http://pandas.pydata.org/pandas-docs/stable/indexing.html#indexing-view-versus-copy\n",
      "  import sys\n",
      "/usr/lib/python3.6/site-packages/sklearn/metrics/regression.py:538: RuntimeWarning: overflow encountered in square\n",
      "  numerator = (weight * (y_true - y_pred) ** 2).sum(axis=0,\n"
     ]
    }
   ],
   "source": [
    "def initTest(df):\n",
    "    df['total people'] = pd.to_numeric(df['Number of survivors']) + pd.to_numeric(df['Total Dead and Missing'])\n",
    "    y = np.array((pd.to_numeric(df['Number of survivors']) / df['total people']).fillna(0))\n",
    "    \n",
    "    df['percent female'] = (pd.to_numeric(df['Number of Female'])/ df['total people']).fillna(0)\n",
    "    df['percent male'] =  (pd.to_numeric(df['Number of Male'])/ df['total people']).fillna(0)\n",
    "    df['percent kids'] =  (pd.to_numeric(df['Number of Children']) / df['total people']).fillna(0)\n",
    "\n",
    "    x = np.array(df[['UNSD Geographical Grouping', 'Migrant Route', 'Region of Incident','percent female', 'percent kids', 'percent male']])\n",
    "\n",
    "    x = np.nan_to_num(x)\n",
    "    \n",
    "    y[y == -np.inf] = 0\n",
    "    y[y == np.inf] = 0\n",
    "    rs = ShuffleSplit(n_splits=3, test_size=.25, random_state=0)\n",
    "\n",
    "    \n",
    "    for train_index, test_index in rs.split(x):\n",
    "        regr = linear_model.LinearRegression()\n",
    "        regr.fit(x[train_index],y[train_index])\n",
    "        print(\"train: \", regr.score(x[train_index],y[train_index]) )\n",
    "        print(\"test: \", regr.score(x[test_index],y[test_index]))\n",
    "initTest(sixteen)"
   ]
  },
  {
   "cell_type": "code",
   "execution_count": null,
   "metadata": {
    "collapsed": true
   },
   "outputs": [],
   "source": []
  },
  {
   "cell_type": "code",
   "execution_count": null,
   "metadata": {
    "collapsed": true
   },
   "outputs": [],
   "source": []
  }
 ],
 "metadata": {
  "kernelspec": {
   "display_name": "Python 3",
   "language": "python",
   "name": "python3"
  },
  "language_info": {
   "codemirror_mode": {
    "name": "ipython",
    "version": 3
   },
   "file_extension": ".py",
   "mimetype": "text/x-python",
   "name": "python",
   "nbconvert_exporter": "python",
   "pygments_lexer": "ipython3",
   "version": "3.6.3"
  }
 },
 "nbformat": 4,
 "nbformat_minor": 1
}
