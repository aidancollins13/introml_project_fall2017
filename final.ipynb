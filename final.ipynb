{
 "cells": [
  {
   "cell_type": "code",
   "execution_count": 43,
   "metadata": {
    "collapsed": true
   },
   "outputs": [],
   "source": [
    "import numpy as np\n",
    "import pandas as pd\n",
    "import matplotlib.pyplot as plt\n",
    "from sklearn import linear_model\n",
    "from sklearn.model_selection import ShuffleSplit"
   ]
  },
  {
   "cell_type": "code",
   "execution_count": 44,
   "metadata": {
    "collapsed": true
   },
   "outputs": [],
   "source": [
    "#creating whole dataset\n",
    "seventeen = pd.read_json(\"https://missingmigrants.iom.int/global-figures/2017/json\")\n",
    "sixteen = pd.read_json(\"https://missingmigrants.iom.int/global-figures/2016/json\")\n",
    "fifteen = pd.read_json(\"https://missingmigrants.iom.int/global-figures/2015/json\")\n",
    "fourteen = pd.read_json(\"https://missingmigrants.iom.int/global-figures/2014/json\")\n",
    "\n",
    "frames = [seventeen,sixteen,fifteen,fourteen]\n",
    "\n",
    "df = pd.concat(frames)"
   ]
  },
  {
   "cell_type": "code",
   "execution_count": 45,
   "metadata": {
    "collapsed": true
   },
   "outputs": [],
   "source": [
    "#cleaning data\n",
    "df = df.replace('', 0,regex=True)\n",
    "df = df.replace('nan', 0, regex=True)\n",
    "df.drop(['Information Source'])\n",
    "df = df[df['Web ID'] != 42424] #drops row with -1 as number of survivors\n",
    "\n",
    "\n",
    "df['Reported Date'] = pd.to_datetime(df['Reported Date'])\n",
    "df['total people'] = pd.to_numeric(df['Number of survivors']) + pd.to_numeric(df['Total Dead and Missing'])\n",
    "df['percent female'] = (pd.to_numeric(df['Number of Female'])/ df['total people']).fillna(0)\n",
    "df['percent male'] =  (pd.to_numeric(df['Number of Male'])/ df['total people']).fillna(0)\n",
    "df['percent kids'] =  (pd.to_numeric(df['Number of Children']) / df['total people']).fillna(0)\n",
    "df['month'] = df['Reported Date'].dt.month\n",
    "df['day'] = df['Reported Date'].dt.day\n",
    "\n",
    "# the index will help us get back from number to category later\n",
    "df['UNSD Geographical Grouping'], geoIndex = pd.Series(df['UNSD Geographical Grouping']).factorize()\n",
    "df['Migrant Route'], migrantIndex = pd.Series(df['Migrant Route']).factorize()\n",
    "df['Region of Incident'], regionIndex = pd.Series(df['Region of Incident']).factorize()"
   ]
  },
  {
   "cell_type": "code",
   "execution_count": 46,
   "metadata": {},
   "outputs": [],
   "source": [
    "#separating data\n",
    "fourteen = df[(df['Reported Date'] >= '2014-01-01') & (df['Reported Date'] < '2015-01-01')]\n",
    "fifteen = df[(df['Reported Date'] >= '2015-01-01') & (df['Reported Date'] < '2016-01-01')]\n",
    "sixteen = df[(df['Reported Date'] >= '2016-01-01') & (df['Reported Date'] < '2017-01-01')]\n",
    "seventeen = df[(df['Reported Date'] >= '2017-01-01') & (df['Reported Date'] < '2018-01-01')]"
   ]
  },
  {
   "cell_type": "code",
   "execution_count": 47,
   "metadata": {},
   "outputs": [
    {
     "name": "stderr",
     "output_type": "stream",
     "text": [
      "C:\\Users\\kimmy\\Miniconda2\\envs\\py35\\lib\\site-packages\\ipykernel_launcher.py:3: RuntimeWarning: invalid value encountered in true_divide\n",
      "  This is separate from the ipykernel package so we can avoid doing imports until\n"
     ]
    },
    {
     "data": {
      "text/plain": [
       "array([1, 4, 2], dtype=object)"
      ]
     },
     "execution_count": 47,
     "metadata": {},
     "output_type": "execute_result"
    }
   ],
   "source": [
    "total_data = np.concatenate((np.array(fourteen),np.array(fifteen),np.array(sixteen),np.array(seventeen)))\n",
    "np.random.shuffle(total_data)\n",
    "y = total_data[:,11].astype(int) / (total_data[:,14].astype(int) + total_data[:,11].astype(int)) \n",
    "# y is what we predict -- total sruvivors over total survivors+missing and dead \n",
    "y = np.nan_to_num(y)\n",
    "y = (100*y).astype(int)\n",
    "x = np.column_stack((total_data[:,5], total_data[:,12],total_data[:,15]))\n",
    "# x is the parts of the data we are using to predict Location, route, region, and Geographical Grouping\n",
    "x[1]"
   ]
  },
  {
   "cell_type": "code",
   "execution_count": 48,
   "metadata": {
    "collapsed": true
   },
   "outputs": [],
   "source": [
    "train = 2000\n",
    "x_tr = x[:train,:]\n",
    "y_tr = y[:train]\n",
    "x_ts = x[train:,:]\n",
    "y_ts = y[train:]\n",
    "from sklearn import linear_model"
   ]
  },
  {
   "cell_type": "code",
   "execution_count": 49,
   "metadata": {},
   "outputs": [
    {
     "data": {
      "text/plain": [
       "LinearRegression(copy_X=True, fit_intercept=True, n_jobs=1, normalize=False)"
      ]
     },
     "execution_count": 49,
     "metadata": {},
     "output_type": "execute_result"
    }
   ],
   "source": [
    "regr = linear_model.LinearRegression()\n",
    "regr.fit(x_tr,y_tr)"
   ]
  },
  {
   "cell_type": "code",
   "execution_count": 50,
   "metadata": {},
   "outputs": [
    {
     "data": {
      "text/plain": [
       "array([ 2.33136254,  0.06412425, -1.38129398])"
      ]
     },
     "execution_count": 50,
     "metadata": {},
     "output_type": "execute_result"
    }
   ],
   "source": [
    "regr.coef_"
   ]
  },
  {
   "cell_type": "code",
   "execution_count": 51,
   "metadata": {},
   "outputs": [
    {
     "name": "stdout",
     "output_type": "stream",
     "text": [
      "RSS: = 0.926494\n",
      "R^2: = 0.073506\n",
      "R^2= 0.073506\n"
     ]
    }
   ],
   "source": [
    "#training data\n",
    "y_pred_tr = regr.predict(x_tr)\n",
    "RSS = np.mean((y_pred_tr - y_tr) **2)/(np.std(y_tr)**2)\n",
    "print(\"RSS: = {0:f}\".format(RSS))\n",
    "print(\"R^2: = {0:f}\".format(1-RSS))\n",
    "print(\"R^2= {0:f}\".format(regr.score(x_tr,y_tr)))"
   ]
  },
  {
   "cell_type": "code",
   "execution_count": 52,
   "metadata": {},
   "outputs": [
    {
     "name": "stdout",
     "output_type": "stream",
     "text": [
      "RSS: = 0.962636\n",
      "R^2: = 0.037364\n"
     ]
    }
   ],
   "source": [
    "#test data\n",
    "y_pred_ts = regr.predict(x_ts)\n",
    "\n",
    "RSS = np.mean((y_pred_ts - y_ts) **2)/(np.std(y_ts)**2)\n",
    "print(\"RSS: = {0:f}\".format(RSS))\n",
    "print(\"R^2: = {0:f}\".format(1-RSS))"
   ]
  },
  {
   "cell_type": "code",
   "execution_count": 56,
   "metadata": {},
   "outputs": [],
   "source": [
    "def initTest(df):\n",
    "    y = np.array((pd.to_numeric(df['Number of survivors']) / df['total people']).fillna(0))\n",
    "    y = np.nan_to_num(y)\n",
    "    y[y == np.abs(np.inf)] = 0\n",
    "    \n",
    "    y = (100*y).astype(int)\n",
    "\n",
    "\n",
    "    x = np.array(df[['UNSD Geographical Grouping', 'Migrant Route', 'Region of Incident','percent female', 'percent kids', 'percent male', 'day','month']])\n",
    "    x = np.nan_to_num(x)\n",
    "\n",
    "    x[:,3] = (100*x[:,3]).astype(int)\n",
    "    x[:,4] = (100*x[:,4]).astype(int)\n",
    "    x[:,5] = (100*x[:,5]).astype(int)\n",
    "\n",
    "\n",
    "    rs = ShuffleSplit(n_splits=3, test_size=.25, random_state=0)\n",
    "\n",
    "    for train_index, test_index in rs.split(x):\n",
    "        regr = linear_model.LinearRegression()\n",
    "        regr.fit(x[train_index],y[train_index])\n",
    "        print(\"train: \", regr.score(x[train_index],y[train_index]) )\n",
    "        print(\"test: \", regr.score(x[test_index],y[test_index]))\n",
    "        print(regr.coef_)\n",
    "        print()\n",
    "    print()"
   ]
  },
  {
   "cell_type": "code",
   "execution_count": 57,
   "metadata": {},
   "outputs": [],
   "source": [
    "onlyUS = df[df['UNSD Geographical Grouping'] == geoIndex.get_loc('Northern America')]"
   ]
  },
  {
   "cell_type": "code",
   "execution_count": 58,
   "metadata": {},
   "outputs": [
    {
     "name": "stdout",
     "output_type": "stream",
     "text": [
      "train:  0.0424244972933\n",
      "test:  -0.0037503123579\n",
      "[ 0.         -0.27017474  0.01892827 -0.05200004 -0.00093992 -0.05091294\n",
      " -0.02089713  0.11393549]\n",
      "\n",
      "train:  0.0458488044058\n",
      "test:  -0.160132944365\n",
      "[  0.00000000e+00  -4.85722573e-17   3.16414433e-02  -5.49076145e-02\n",
      "   2.99037036e-03  -5.43578601e-02  -5.13860140e-02   2.23140405e-01]\n",
      "\n",
      "train:  0.0358732900304\n",
      "test:  0.0312031628027\n",
      "[ 0.         -0.28562755  0.03790224 -0.04170855  0.00181967 -0.04050936\n",
      " -0.05433346  0.21099163]\n",
      "\n",
      "\n",
      "train:  0.190071394152\n",
      "test:  0.173655623067\n",
      "[-0.75021194  1.80405348 -1.39362357 -0.10863548  0.1086355  -0.21016226\n",
      " -0.04699752 -0.02482061]\n",
      "\n",
      "train:  0.18231732413\n",
      "test:  0.192084887746\n",
      "[-0.67130365  1.48688289 -1.41716563 -0.11286576  0.11286578 -0.19951491\n",
      " -0.07270437 -0.03475173]\n",
      "\n",
      "train:  0.181808425782\n",
      "test:  0.200602121232\n",
      "[-0.7851339   1.84463063 -1.22928795 -0.09865012  0.09865014 -0.20556224\n",
      " -0.02495267 -0.1336195 ]\n",
      "\n",
      "\n",
      "train:  0.33001319662\n",
      "test:  0.414727379975\n",
      "[ 0.         -0.71021626  1.06505759 -0.3226167  -0.01334576 -0.33951199\n",
      " -0.00582082 -0.07134204]\n",
      "\n",
      "train:  0.393673565871\n",
      "test:  0.156765979573\n",
      "[  0.00000000e+00  -1.09004728e+00   1.50156966e+00  -3.65623898e-01\n",
      "  -1.33692989e-04  -3.93496075e-01   1.88382315e-02  -6.09963086e-02]\n",
      "\n",
      "train:  0.365951629167\n",
      "test:  0.327005410105\n",
      "[ 0.         -0.97757143  1.54105183 -0.33766633 -0.00472307 -0.35692185\n",
      " -0.02678278 -0.15061422]\n",
      "\n",
      "\n"
     ]
    },
    {
     "name": "stderr",
     "output_type": "stream",
     "text": [
      "C:\\Users\\kimmy\\Miniconda2\\envs\\py35\\lib\\site-packages\\ipykernel_launcher.py:12: RuntimeWarning: overflow encountered in multiply\n",
      "  if sys.path[0] == '':\n",
      "C:\\Users\\kimmy\\Miniconda2\\envs\\py35\\lib\\site-packages\\ipykernel_launcher.py:13: RuntimeWarning: overflow encountered in multiply\n",
      "  del sys.path[0]\n"
     ]
    }
   ],
   "source": [
    "initTest(onlyUS)\n",
    "initTest(df)\n",
    "initTest(df[df['UNSD Geographical Grouping'] == geoIndex.get_loc('Central America')])"
   ]
  },
  {
   "cell_type": "code",
   "execution_count": null,
   "metadata": {
    "collapsed": true
   },
   "outputs": [],
   "source": []
  }
 ],
 "metadata": {
  "kernelspec": {
   "display_name": "Python 3",
   "language": "python",
   "name": "python3"
  },
  "language_info": {
   "codemirror_mode": {
    "name": "ipython",
    "version": 3
   },
   "file_extension": ".py",
   "mimetype": "text/x-python",
   "name": "python",
   "nbconvert_exporter": "python",
   "pygments_lexer": "ipython3",
   "version": "3.5.4"
  }
 },
 "nbformat": 4,
 "nbformat_minor": 1
}
