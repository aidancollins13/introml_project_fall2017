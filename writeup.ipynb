{
 "cells": [
  {
   "cell_type": "markdown",
   "metadata": {},
   "source": [
    "Our dataset is the from the [Missing Migrants Project](https://missingmigrants.iom.int/)   which \"tracks deaths of migrants, including refugees and asylum-seekers, who have gone missing along mixed migration routes worldwide.\"  The dataset is being continuously updated and includes 3200 rows and 18 features.\n",
    "\n",
    "Our goal was to predict if a migration would be successful.  We used two different target variavles: percent of people that would survive the migration [0,100] and if 50% or more of the people involved would survive [0,1].\n",
    "\n",
    "It should be noted that our dataset is very sparse with a lot of zero cells."
   ]
  },
  {
   "cell_type": "markdown",
   "metadata": {},
   "source": [
    "Importing the data"
   ]
  },
  {
   "cell_type": "code",
   "execution_count": 1,
   "metadata": {
    "collapsed": true
   },
   "outputs": [],
   "source": [
    "import numpy as np\n",
    "import pandas as pd\n",
    "import matplotlib.pyplot as plt\n",
    "import math"
   ]
  },
  {
   "cell_type": "code",
   "execution_count": 2,
   "metadata": {
    "collapsed": true
   },
   "outputs": [],
   "source": [
    "seventeen = pd.read_json(\"https://missingmigrants.iom.int/global-figures/2017/json\")\n",
    "sixteen = pd.read_json(\"https://missingmigrants.iom.int/global-figures/2016/json\")\n",
    "fifteen = pd.read_json(\"https://missingmigrants.iom.int/global-figures/2015/json\")\n",
    "fourteen = pd.read_json(\"https://missingmigrants.iom.int/global-figures/2014/json\")\n",
    "\n",
    "frames = [seventeen,sixteen,fifteen,fourteen]\n",
    "df = pd.concat(frames)"
   ]
  },
  {
   "cell_type": "markdown",
   "metadata": {},
   "source": [
    "Cleaning the data"
   ]
  },
  {
   "cell_type": "code",
   "execution_count": 3,
   "metadata": {
    "collapsed": true
   },
   "outputs": [],
   "source": [
    "df = df.replace('', 0,regex=True)\n",
    "df = df.replace('nan', 0, regex=True)\n",
    "df.drop(['Information Source'])\n",
    "df = df[df['Web ID'] != 42424] #drops row with -1 as number of survivors\n",
    "\n",
    "df['Reported Date'] = pd.to_datetime(df['Reported Date'])\n",
    "df['total people'] = pd.to_numeric(df['Number of survivors']) + pd.to_numeric(df['Total Dead and Missing'])\n",
    "df['percent female'] = (pd.to_numeric(df['Number of Female'])/ df['total people']).fillna(0)\n",
    "df['percent male'] =  (pd.to_numeric(df['Number of Male'])/ df['total people']).fillna(0)\n",
    "df['percent kids'] =  (pd.to_numeric(df['Number of Children']) / df['total people']).fillna(0)\n",
    "df['month'] = df['Reported Date'].dt.month\n",
    "df['day'] = df['Reported Date'].dt.day\n",
    "\n",
    "#latitude and longitude to cartesian\n",
    "R = 6371\n",
    "df['x'] = df['Location'].apply(lambda latLong: R*math.cos(float(latLong.split(\", \")[0]))*math.cos(float(latLong.split(\", \")[1])))\n",
    "df['y'] = df['Location'].apply(lambda latLong: R*math.cos(float(latLong.split(\", \")[0]))*math.sin(float(latLong.split(\", \")[1])))\n",
    "df['z'] = df['Location'].apply(lambda latLong: R*math.sin(float(latLong.split(\", \")[0])))"
   ]
  },
  {
   "cell_type": "markdown",
   "metadata": {},
   "source": [
    "Using both one hot coding and direct categorical replacement methods"
   ]
  },
  {
   "cell_type": "code",
   "execution_count": 4,
   "metadata": {
    "collapsed": true
   },
   "outputs": [],
   "source": [
    "ohc_UNSD = pd.get_dummies(df['UNSD Geographical Grouping'],prefix='UNSD')\n",
    "ohc_Route = pd.get_dummies(df['Migrant Route'],prefix='Route')\n",
    "ohc_Region = pd.get_dummies(df['Region of Incident'],prefix='Region')\n",
    "                            \n",
    "oneHotCodeFrame = df.copy(deep=True)\n",
    "oneHotCodeFrame = oneHotCodeFrame.join(ohc_UNSD)\n",
    "oneHotCodeFrame = oneHotCodeFrame.join(ohc_Region)\n",
    "oneHotCodeFrame = oneHotCodeFrame.join(ohc_Route)\n",
    "                            \n",
    "catFrame = df.copy(deep=True)\n",
    "# the index will help us get back from number to category later\n",
    "catFrame['UNSD Geographical Grouping'], geoIndex = pd.Series(catFrame['UNSD Geographical Grouping']).factorize()\n",
    "catFrame['Migrant Route'], migrantIndex = pd.Series(catFrame['Migrant Route']).factorize()\n",
    "catFrame['Region of Incident'], regionIndex = pd.Series(catFrame['Region of Incident']).factorize()"
   ]
  },
  {
   "cell_type": "markdown",
   "metadata": {},
   "source": [
    "We started with a linear model, predicting the % of survivors on a migration"
   ]
  },
  {
   "cell_type": "code",
   "execution_count": 5,
   "metadata": {
    "collapsed": true
   },
   "outputs": [],
   "source": [
    "from sklearn import linear_model\n",
    "from sklearn.model_selection import ShuffleSplit"
   ]
  },
  {
   "cell_type": "code",
   "execution_count": 6,
   "metadata": {
    "collapsed": true
   },
   "outputs": [],
   "source": [
    "def linear(dataframe):\n",
    "    y = np.array((pd.to_numeric(dataframe['Number of survivors']) / dataframe['total people']).fillna(0))\n",
    "    y = np.nan_to_num(y)\n",
    "    y[y == np.abs(np.inf)] = 0\n",
    "    \n",
    "    y = (100*y).astype(int)\n",
    "\n",
    "    x = np.array(dataframe[['UNSD Geographical Grouping', 'Migrant Route', 'Region of Incident', 'percent female',\n",
    "                     'percent kids', 'percent male', 'month', 'day','x','y','z']])\n",
    "    x = np.nan_to_num(x)\n",
    "\n",
    "    x[:,3] = (100*x[:,3]).astype(int)\n",
    "    x[:,4] = (100*x[:,4]).astype(int)\n",
    "    x[:,2] = (100*x[:,2]).astype(int)\n",
    "\n",
    "\n",
    "    rs = ShuffleSplit(n_splits=3, test_size=.25, random_state=0)\n",
    "\n",
    "    for train_index, test_index in rs.split(x):\n",
    "        regr = linear_model.LinearRegression()\n",
    "        regr.fit(x[train_index],y[train_index])\n",
    "        print(\"train: \", regr.score(x[train_index],y[train_index]) )\n",
    "        print(\"test: \", regr.score(x[test_index],y[test_index]))\n",
    "    print()\n",
    "    plt.scatter(y,regr.predict(x))\n",
    "    plt.xlabel(\"actual y\")\n",
    "    plt.ylabel('predicted y')\n",
    "    plt.title('predicted vs actual survival')\n",
    "    plt.show()"
   ]
  },
  {
   "cell_type": "markdown",
   "metadata": {},
   "source": [
    "Testing with the categorical frame and a subset of the frame to see how the two compare"
   ]
  },
  {
   "cell_type": "code",
   "execution_count": 7,
   "metadata": {},
   "outputs": [
    {
     "name": "stderr",
     "output_type": "stream",
     "text": [
      "/anaconda/lib/python3.6/site-packages/ipykernel_launcher.py:12: RuntimeWarning: overflow encountered in multiply\n",
      "  if sys.path[0] == '':\n",
      "/anaconda/lib/python3.6/site-packages/ipykernel_launcher.py:13: RuntimeWarning: overflow encountered in multiply\n",
      "  del sys.path[0]\n"
     ]
    },
    {
     "name": "stdout",
     "output_type": "stream",
     "text": [
      "train:  0.0559133404609\n",
      "test:  0.0329260175139\n",
      "train:  0.0547448882701\n",
      "test:  0.0391379401795\n",
      "train:  0.0554879917971\n",
      "test:  0.0308220791128\n",
      "\n"
     ]
    },
    {
     "data": {
      "image/png": "[encoded data removed]",
      "text/plain": [
       "<matplotlib.figure.Figure at 0x1046f42e8>"
      ]
     },
     "metadata": {},
     "output_type": "display_data"
    },
    {
     "name": "stdout",
     "output_type": "stream",
     "text": [
      "train:  0.375450226375\n",
      "test:  0.272521252022\n",
      "train:  0.409025317397\n",
      "test:  0.0906210977257\n",
      "train:  0.326132863633\n",
      "test:  0.371263618695\n",
      "\n"
     ]
    },
    {
     "data": {
      "image/png": "[encoded data removed]",
      "text/plain": [
       "<matplotlib.figure.Figure at 0x114d994e0>"
      ]
     },
     "metadata": {},
     "output_type": "display_data"
    }
   ],
   "source": [
    "linear(catFrame)\n",
    "linear(catFrame[catFrame['UNSD Geographical Grouping'] == geoIndex.get_loc('Central America')])"
   ]
  },
  {
   "cell_type": "code",
   "execution_count": 8,
   "metadata": {
    "collapsed": true
   },
   "outputs": [],
   "source": [
    "def ohcLinear(dataframe):\n",
    "    y = np.array((pd.to_numeric(dataframe['Number of survivors']) / dataframe['total people']).fillna(0))\n",
    "    y = np.nan_to_num(y)\n",
    "    y[y == np.abs(np.inf)] = 0    \n",
    "    y = (100*y).astype(int)\n",
    "\n",
    "    x = np.array(dataframe[['percent female','percent kids', 'percent male', 'month', 'day','x','y','z']])\n",
    "    x = np.nan_to_num(x)\n",
    "\n",
    "    x[:,0] = (100*x[:,0]).astype(int)\n",
    "    x[:,1] = (100*x[:,1]).astype(int)\n",
    "    x[:,2] = (100*x[:,2]).astype(int)\n",
    "\n",
    "\n",
    "    rs = ShuffleSplit(n_splits=3, test_size=.25, random_state=0)\n",
    "\n",
    "    for train_index, test_index in rs.split(x):\n",
    "        regr = linear_model.LinearRegression()\n",
    "        regr.fit(x[train_index],y[train_index])\n",
    "        print(\"train: \", regr.score(x[train_index],y[train_index]) )\n",
    "        print(\"test: \", regr.score(x[test_index],y[test_index]))\n",
    "    print()\n",
    "    plt.scatter(y,regr.predict(x))\n",
    "    plt.xlabel(\"actual y\")\n",
    "    plt.ylabel('predicted y')\n",
    "    plt.title('predicted vs actual survival')\n",
    "    plt.show()"
   ]
  },
  {
   "cell_type": "markdown",
   "metadata": {},
   "source": [
    "Testing with one hot coding, predicting survival %"
   ]
  },
  {
   "cell_type": "code",
   "execution_count": 9,
   "metadata": {
    "scrolled": true
   },
   "outputs": [
    {
     "name": "stderr",
     "output_type": "stream",
     "text": [
      "/anaconda/lib/python3.6/site-packages/ipykernel_launcher.py:10: RuntimeWarning: overflow encountered in multiply\n",
      "  # Remove the CWD from sys.path while we load stuff.\n",
      "/anaconda/lib/python3.6/site-packages/ipykernel_launcher.py:11: RuntimeWarning: overflow encountered in multiply\n",
      "  # This is added back by InteractiveShellApp.init_path()\n"
     ]
    },
    {
     "name": "stdout",
     "output_type": "stream",
     "text": [
      "train:  0.0161220289569\n",
      "test:  0.0161713006973\n",
      "train:  0.0164974082419\n",
      "test:  0.0150452879366\n",
      "train:  0.016828426816\n",
      "test:  0.0138901092404\n",
      "\n"
     ]
    },
    {
     "data": {
      "image/png": "[encoded data removed]",
      "text/plain": [
       "<matplotlib.figure.Figure at 0x114e12a90>"
      ]
     },
     "metadata": {},
     "output_type": "display_data"
    }
   ],
   "source": [
    "ohcLinear(oneHotCodeFrame)"
   ]
  },
  {
   "cell_type": "markdown",
   "metadata": {},
   "source": [
    "We also tried SVM to again predict % survived"
   ]
  },
  {
   "cell_type": "code",
   "execution_count": 10,
   "metadata": {
    "collapsed": true
   },
   "outputs": [],
   "source": [
    "from sklearn import svm\n",
    "from sklearn.metrics import confusion_matrix"
   ]
  },
  {
   "cell_type": "code",
   "execution_count": 11,
   "metadata": {
    "collapsed": true
   },
   "outputs": [],
   "source": [
    "def suppVector(dataframe):\n",
    "\n",
    "    y = np.array((pd.to_numeric(dataframe['Number of survivors']) / dataframe['total people']).fillna(0))\n",
    "    y = np.nan_to_num(y)\n",
    "    y[y == np.abs(np.inf)] = 0\n",
    "    y = (100*y).astype(int)\n",
    "\n",
    "    x = np.array(dataframe[['percent female', 'percent kids', 'percent male', 'day','month','x','y','z']])\n",
    "    x = np.column_stack((x,np.array(dataframe.loc[:,'UNSD_0':])))\n",
    "    x = np.nan_to_num(x)\n",
    "    x[:,0] = (100*x[:,0]).astype(int)\n",
    "    x[:,1] = (100*x[:,1]).astype(int)\n",
    "    x[:,2] = (100*x[:,2]).astype(int)\n",
    "\n",
    "    ntr = len(y)//4 *3\n",
    "    x_tr = x[:ntr,:]\n",
    "    y_tr = y[:ntr]\n",
    "    x_ts = x[ntr:,:]\n",
    "    y_ts = y[ntr:]\n",
    "    \n",
    "    svc = svm.SVC(probability = False, kernel = \"rbf\", C = 1.0, gamma = 1/ntr, verbose = 10)\n",
    "    \n",
    "    print(x_ts.shape,y_ts.shape)\n",
    "    print(x_tr.shape,y_tr.shape)\n",
    "    print(ntr)\n",
    "    svc.fit(x_tr,y_tr)\n",
    "    \n",
    "    yhat = svc.predict(x_ts)\n",
    "    acc = np.mean(yhat == y_ts)\n",
    "    print('Accuracy = {0:f}'.format(acc))\n",
    "    \n",
    "    plt.scatter(y,regr.predict(x))        \n",
    "    plt.xlabel(\"actual y\")\n",
    "    plt.ylabel('predicted y')\n",
    "    plt.title('predicted vs actual survival')\n",
    "    plt.show()"
   ]
  },
  {
   "cell_type": "code",
   "execution_count": 12,
   "metadata": {
    "collapsed": true
   },
   "outputs": [],
   "source": [
    "def suppVectorCat(dataframe):\n",
    "    y = np.array((pd.to_numeric(dataframe['Number of survivors']) / dataframe['total people']).fillna(0))\n",
    "    y = np.nan_to_num(y)\n",
    "    y[y == np.abs(np.inf)] = 0\n",
    "    y = (100*y).astype(int)\n",
    "\n",
    "    x = np.array(dataframe[['UNSD Geographical Grouping', 'Migrant Route', 'Region of Incident', 'percent female',\n",
    "                     'percent kids', 'percent male', 'month', 'day','x','y','z']])\n",
    "    x = np.nan_to_num(x)\n",
    "\n",
    "    x[:,3] = (100*x[:,3]).astype(int)\n",
    "    x[:,4] = (100*x[:,4]).astype(int)\n",
    "    x[:,2] = (100*x[:,2]).astype(int)\n",
    "\n",
    "    ntr = len(y)//4 *3\n",
    "    x_tr = x[:ntr,:]\n",
    "    y_tr = y[:ntr]\n",
    "    x_ts = x[ntr:,:]\n",
    "    y_ts = y[ntr:]\n",
    "    \n",
    "    svc = svm.SVC(probability = False, kernel = \"rbf\", C = 1.0, gamma = 1/ntr, verbose = 10)\n",
    "    \n",
    "    print(x_ts.shape,y_ts.shape)\n",
    "    print(x_tr.shape,y_tr.shape)\n",
    "    print(ntr)\n",
    "    svc.fit(x_tr,y_tr)\n",
    "    \n",
    "    yhat = svc.predict(x_ts)\n",
    "    acc = np.mean(yhat == y_ts)\n",
    "    print('Accuracy = {0:f}'.format(acc))\n",
    "    plt.scatter(y,svc.predict(x))\n",
    "    plt.xlabel(\"actual y\")\n",
    "    plt.ylabel('predicted y')\n",
    "    plt.title('predicted vs actual survival')\n",
    "    plt.show()"
   ]
  },
  {
   "cell_type": "code",
   "execution_count": 13,
   "metadata": {},
   "outputs": [
    {
     "name": "stderr",
     "output_type": "stream",
     "text": [
      "/anaconda/lib/python3.6/site-packages/ipykernel_launcher.py:11: RuntimeWarning: overflow encountered in multiply\n",
      "  # This is added back by InteractiveShellApp.init_path()\n",
      "/anaconda/lib/python3.6/site-packages/ipykernel_launcher.py:12: RuntimeWarning: overflow encountered in multiply\n",
      "  if sys.path[0] == '':\n"
     ]
    },
    {
     "name": "stdout",
     "output_type": "stream",
     "text": [
      "(802, 11) (802,)\n",
      "(2397, 11) (2397,)\n",
      "2397\n",
      "[LibSVM]Accuracy = 0.830424\n"
     ]
    },
    {
     "data": {
      "image/png": "[encoded data removed]",
      "text/plain": [
       "<matplotlib.figure.Figure at 0x1026c1da0>"
      ]
     },
     "metadata": {},
     "output_type": "display_data"
    }
   ],
   "source": [
    "suppVectorCat(catFrame)\n",
    "# suppVector(oneHotCodeFrame) #this takes forever"
   ]
  },
  {
   "cell_type": "markdown",
   "metadata": {},
   "source": [
    "We also tried a neural network to predict both the % that will survive, and just if 50% or more will survive"
   ]
  },
  {
   "cell_type": "code",
   "execution_count": 14,
   "metadata": {},
   "outputs": [
    {
     "name": "stderr",
     "output_type": "stream",
     "text": [
      "Using TensorFlow backend.\n",
      "/anaconda/lib/python3.6/importlib/_bootstrap.py:205: RuntimeWarning: compiletime version 3.5 of module 'tensorflow.python.framework.fast_tensor_util' does not match runtime version 3.6\n",
      "  return f(*args, **kwds)\n"
     ]
    }
   ],
   "source": [
    "import keras\n",
    "from keras.models import Model,Sequential\n",
    "from keras.layers import Dense,Activation\n",
    "import keras.backend as K\n",
    "from sklearn.model_selection import train_test_split\n",
    "from keras import optimizers"
   ]
  },
  {
   "cell_type": "markdown",
   "metadata": {},
   "source": [
    "Predicting the % that will survive"
   ]
  },
  {
   "cell_type": "code",
   "execution_count": 24,
   "metadata": {
    "collapsed": true
   },
   "outputs": [],
   "source": [
    "def nnCat(dataframe):\n",
    "    y = np.array((pd.to_numeric(dataframe['Number of survivors']) / dataframe['total people']).fillna(0))\n",
    "    y = np.nan_to_num(y)\n",
    "    y[y == np.abs(np.inf)] = 0\n",
    "    \n",
    "    y = (100*y).astype(int)\n",
    "\n",
    "\n",
    "    x = np.array(dataframe[['UNSD Geographical Grouping', 'Migrant Route', 'Region of Incident', 'percent female',\n",
    "                     'percent kids', 'percent male', 'month', 'day']])\n",
    "    x = np.nan_to_num(x)\n",
    "\n",
    "    x[:,3] = (100*x[:,3]).astype(int)\n",
    "    x[:,4] = (100*x[:,4]).astype(int)\n",
    "    x[:,2] = (100*x[:,2]).astype(int)\n",
    "    \n",
    "    ntr = len(y)//4 *3\n",
    "    x_tr = x[:ntr,:]\n",
    "    y_tr = y[:ntr]\n",
    "    x_ts = x[ntr:,:]\n",
    "    y_ts = y[ntr:]\n",
    "\n",
    "    K.clear_session()\n",
    "\n",
    "    nin = x.shape[1]\n",
    "    nout = int(np.max(y)+1) \n",
    "    model = Sequential()\n",
    "    model.add(Dense(100, input_shape=(nin,), activation='relu', name='hidden'))\n",
    "    model.add(Dense(nout, activation='softmax', name='output'))\n",
    "\n",
    "    model.summary()\n",
    "\n",
    "    opt = optimizers.Adam(lr=0.001) # beta_1=0.9, beta_2=0.999, epsilon=1e-08, decay=0.0)\n",
    "    model.compile(optimizer=opt,\n",
    "                  loss='sparse_categorical_crossentropy',\n",
    "                  metrics=['accuracy'])\n",
    "    model.fit(x_tr, y_tr, epochs=10, batch_size=100, validation_data=(x_ts,y_ts))"
   ]
  },
  {
   "cell_type": "code",
   "execution_count": 25,
   "metadata": {},
   "outputs": [
    {
     "name": "stderr",
     "output_type": "stream",
     "text": [
      "/anaconda/lib/python3.6/site-packages/ipykernel_launcher.py:13: RuntimeWarning: overflow encountered in multiply\n",
      "  del sys.path[0]\n",
      "/anaconda/lib/python3.6/site-packages/ipykernel_launcher.py:14: RuntimeWarning: overflow encountered in multiply\n",
      "  \n"
     ]
    },
    {
     "name": "stdout",
     "output_type": "stream",
     "text": [
      "_________________________________________________________________\n",
      "Layer (type)                 Output Shape              Param #   \n",
      "=================================================================\n",
      "hidden (Dense)               (None, 100)               900       \n",
      "_________________________________________________________________\n",
      "output (Dense)               (None, 100)               10100     \n",
      "=================================================================\n",
      "Total params: 11,000\n",
      "Trainable params: 11,000\n",
      "Non-trainable params: 0\n",
      "_________________________________________________________________\n",
      "Train on 2397 samples, validate on 802 samples\n",
      "Epoch 1/10\n",
      "2397/2397 [==============================] - 0s 145us/step - loss: 14.1144 - acc: 0.0417 - val_loss: 2.7529 - val_acc: 0.7968\n",
      "Epoch 2/10\n",
      "2397/2397 [==============================] - 0s 39us/step - loss: 2.1702 - acc: 0.8598 - val_loss: 2.6591 - val_acc: 0.8304\n",
      "Epoch 3/10\n",
      "2397/2397 [==============================] - 0s 42us/step - loss: 2.1446 - acc: 0.8627 - val_loss: 2.6584 - val_acc: 0.8304\n",
      "Epoch 4/10\n",
      "2397/2397 [==============================] - 0s 46us/step - loss: 2.1338 - acc: 0.8627 - val_loss: 2.6579 - val_acc: 0.8304\n",
      "Epoch 5/10\n",
      "2397/2397 [==============================] - 0s 48us/step - loss: 2.1220 - acc: 0.8627 - val_loss: 2.6583 - val_acc: 0.8304\n",
      "Epoch 6/10\n",
      "2397/2397 [==============================] - 0s 46us/step - loss: 2.1145 - acc: 0.8627 - val_loss: 2.6591 - val_acc: 0.8304\n",
      "Epoch 7/10\n",
      "2397/2397 [==============================] - 0s 51us/step - loss: 2.1095 - acc: 0.8623 - val_loss: 2.6596 - val_acc: 0.8304\n",
      "Epoch 8/10\n",
      "2397/2397 [==============================] - 0s 40us/step - loss: 2.1065 - acc: 0.8623 - val_loss: 2.6598 - val_acc: 0.8304\n",
      "Epoch 9/10\n",
      "2397/2397 [==============================] - 0s 44us/step - loss: 2.1009 - acc: 0.8623 - val_loss: 2.6616 - val_acc: 0.8304\n",
      "Epoch 10/10\n",
      "2397/2397 [==============================] - 0s 45us/step - loss: 2.0989 - acc: 0.8623 - val_loss: 2.6576 - val_acc: 0.8304\n"
     ]
    }
   ],
   "source": [
    "nnCat(catFrame)"
   ]
  },
  {
   "cell_type": "markdown",
   "metadata": {},
   "source": [
    "Making a binary decision about survival"
   ]
  },
  {
   "cell_type": "code",
   "execution_count": 42,
   "metadata": {
    "collapsed": true
   },
   "outputs": [],
   "source": [
    "class LossHistory(keras.callbacks.Callback):\n",
    "    def on_train_begin(self, logs={}):\n",
    "        self.loss = []\n",
    "        self.val_acc = []\n",
    "        \n",
    "    def on_batch_end(self, batch, logs={}):\n",
    "        self.loss.append(logs.get('loss'))\n",
    "        \n",
    "    def on_epoch_end(self, epoch, logs):\n",
    "        self.val_acc.append(logs.get('val_acc'))\n",
    "        \n",
    "history_cb = LossHistory()"
   ]
  },
  {
   "cell_type": "code",
   "execution_count": 43,
   "metadata": {
    "collapsed": true
   },
   "outputs": [],
   "source": [
    "def nn(dataframe):\n",
    "    y = np.array(pd.to_numeric(dataframe['Number of survivors']) / dataframe['total people'].fillna(0) > .5).astype(int)\n",
    "    y = np.nan_to_num(y)\n",
    "\n",
    "    x = np.array(dataframe[['UNSD Geographical Grouping', 'Migrant Route', 'Region of Incident', 'percent female',\n",
    "                     'percent kids', 'percent male', 'month', 'day']])  #using xyz makes accuracy worse\n",
    "    x = np.nan_to_num(x)\n",
    "\n",
    "    x[:,3] = (100*x[:,3]).astype(int)\n",
    "    x[:,4] = (100*x[:,4]).astype(int)\n",
    "    x[:,5] = (100*x[:,5]).astype(int)\n",
    "   \n",
    "    ntr = len(y)//4 *3\n",
    "    x_tr = x[:ntr,:]\n",
    "    y_tr = y[:ntr]\n",
    "    x_ts = x[ntr:,:]\n",
    "    y_ts = y[ntr:]\n",
    "\n",
    "    K.clear_session()\n",
    "\n",
    "    nin = x.shape[1]\n",
    "    nout = int(np.max(y)+1) \n",
    "    model = Sequential()\n",
    "    model.add(Dense(100, input_shape=(nin,), activation='relu', name='hidden'))\n",
    "    model.add(Dense(nout, activation='softmax', name='output'))\n",
    "\n",
    "    model.summary()\n",
    "\n",
    "    opt = optimizers.Adam(lr=0.001) # beta_1=0.9, beta_2=0.999, epsilon=1e-08, decay=0.0)\n",
    "    model.compile(optimizer=opt,\n",
    "                  loss='sparse_categorical_crossentropy',\n",
    "                  metrics=['accuracy'])\n",
    "    model.fit(x_tr, y_tr, epochs=10, batch_size=100, validation_data=(x_ts,y_ts), callbacks=[history_cb]) \n",
    "    \n",
    "    return model,x_tr,y_tr,x_ts,y_ts"
   ]
  },
  {
   "cell_type": "code",
   "execution_count": 44,
   "metadata": {
    "scrolled": false
   },
   "outputs": [
    {
     "name": "stderr",
     "output_type": "stream",
     "text": [
      "/anaconda/lib/python3.6/site-packages/ipykernel_launcher.py:9: RuntimeWarning: overflow encountered in multiply\n",
      "  if __name__ == '__main__':\n",
      "/anaconda/lib/python3.6/site-packages/ipykernel_launcher.py:10: RuntimeWarning: overflow encountered in multiply\n",
      "  # Remove the CWD from sys.path while we load stuff.\n"
     ]
    },
    {
     "name": "stdout",
     "output_type": "stream",
     "text": [
      "_________________________________________________________________\n",
      "Layer (type)                 Output Shape              Param #   \n",
      "=================================================================\n",
      "hidden (Dense)               (None, 100)               900       \n",
      "_________________________________________________________________\n",
      "output (Dense)               (None, 2)                 202       \n",
      "=================================================================\n",
      "Total params: 1,102\n",
      "Trainable params: 1,102\n",
      "Non-trainable params: 0\n",
      "_________________________________________________________________\n",
      "Train on 2397 samples, validate on 802 samples\n",
      "Epoch 1/10\n",
      "2397/2397 [==============================] - 0s 165us/step - loss: 0.3784 - acc: 0.8652 - val_loss: 0.3443 - val_acc: 0.8840\n",
      "Epoch 2/10\n",
      "2397/2397 [==============================] - 0s 25us/step - loss: 0.2344 - acc: 0.8970 - val_loss: 0.2797 - val_acc: 0.8865\n",
      "Epoch 3/10\n",
      "2397/2397 [==============================] - 0s 34us/step - loss: 0.2102 - acc: 0.9065 - val_loss: 0.2780 - val_acc: 0.8840\n",
      "Epoch 4/10\n",
      "2397/2397 [==============================] - 0s 28us/step - loss: 0.2022 - acc: 0.9091 - val_loss: 0.2601 - val_acc: 0.8828\n",
      "Epoch 5/10\n",
      "2397/2397 [==============================] - 0s 24us/step - loss: 0.1942 - acc: 0.9116 - val_loss: 0.2535 - val_acc: 0.8865\n",
      "Epoch 6/10\n",
      "2397/2397 [==============================] - 0s 26us/step - loss: 0.1919 - acc: 0.9157 - val_loss: 0.2543 - val_acc: 0.8840\n",
      "Epoch 7/10\n",
      "2397/2397 [==============================] - 0s 36us/step - loss: 0.1857 - acc: 0.9149 - val_loss: 0.2435 - val_acc: 0.8890\n",
      "Epoch 8/10\n",
      "2397/2397 [==============================] - 0s 40us/step - loss: 0.1835 - acc: 0.9153 - val_loss: 0.2492 - val_acc: 0.8853\n",
      "Epoch 9/10\n",
      "2397/2397 [==============================] - 0s 28us/step - loss: 0.1814 - acc: 0.9153 - val_loss: 0.2438 - val_acc: 0.8853\n",
      "Epoch 10/10\n",
      "2397/2397 [==============================] - 0s 27us/step - loss: 0.1774 - acc: 0.9203 - val_loss: 0.2402 - val_acc: 0.8903\n"
     ]
    }
   ],
   "source": [
    "nnModel,x_tr,y_tr,x_ts,y_ts = nn(catFrame)"
   ]
  },
  {
   "cell_type": "markdown",
   "metadata": {},
   "source": [
    "Here, we plot the validation accuracy of our data."
   ]
  },
  {
   "cell_type": "code",
   "execution_count": 46,
   "metadata": {},
   "outputs": [
    {
     "data": {
      "image/png": "[encoded data removed]",
      "text/plain": [
       "<matplotlib.figure.Figure at 0x121a52898>"
      ]
     },
     "metadata": {},
     "output_type": "display_data"
    }
   ],
   "source": [
    "val_acc = history_cb.val_acc\n",
    "nepochs = len(val_acc)\n",
    "plt.plot(np.arange(1,nepochs+1), val_acc, 'o-', linewidth = 2)\n",
    "plt.grid()\n",
    "plt.xlabel('epoch')\n",
    "plt.ylabel('test accuracy')\n",
    "plt.show()"
   ]
  },
  {
   "cell_type": "markdown",
   "metadata": {},
   "source": [
    "Here, we plotted the loss values to show its history and try to see what works to improve accuracy."
   ]
  },
  {
   "cell_type": "code",
   "execution_count": 56,
   "metadata": {},
   "outputs": [
    {
     "data": {
      "image/png": "[encoded data removed]",
      "text/plain": [
       "<matplotlib.figure.Figure at 0x121e49cf8>"
      ]
     },
     "metadata": {},
     "output_type": "display_data"
    }
   ],
   "source": [
    "nsteps = len(history_cb.loss)\n",
    "x = np.array(df[['UNSD Geographical Grouping', 'Migrant Route', 'Region of Incident', 'percent female',\n",
    "                     'percent kids', 'percent male', 'month', 'day']])  #using xyz makes accuracy worse\n",
    "x = np.nan_to_num(x)\n",
    "\n",
    "ntr = 2397\n",
    "x_tr = x[:ntr,:]\n",
    "x_ts = x[ntr:,:]\n",
    "    \n",
    "ntr = x_tr.shape[0]\n",
    "epochs = np.arange(1,nsteps+1)*100/ntr\n",
    "plt.semilogy(epochs,history_cb.loss)\n",
    "plt.xlabel('Epochs')\n",
    "plt.ylabel('loss')\n",
    "plt.grid()\n",
    "plt.xlim([0,np.max(epochs)])\n",
    "plt.tight_layout()\n",
    "plt.show()"
   ]
  },
  {
   "cell_type": "markdown",
   "metadata": {},
   "source": [
    "We wanted to figure out what features led to success. We made tests that kept the other features at their average and went through the range of all possible values of one feature. We checked if any of those outputs were one. They wern't.  "
   ]
  },
  {
   "cell_type": "code",
   "execution_count": 40,
   "metadata": {},
   "outputs": [
    {
     "ename": "TypeError",
     "evalue": "unsupported operand type(s) for +: 'int' and 'str'",
     "output_type": "error",
     "traceback": [
      "\u001b[0;31m---------------------------------------------------------------------------\u001b[0m",
      "\u001b[0;31mTypeError\u001b[0m                                 Traceback (most recent call last)",
      "\u001b[0;32m<ipython-input-40-b7e838b9bec5>\u001b[0m in \u001b[0;36m<module>\u001b[0;34m()\u001b[0m\n\u001b[0;32m----> 1\u001b[0;31m \u001b[0mx_avg\u001b[0m \u001b[0;34m=\u001b[0m \u001b[0mnp\u001b[0m\u001b[0;34m.\u001b[0m\u001b[0mmean\u001b[0m\u001b[0;34m(\u001b[0m\u001b[0mx\u001b[0m\u001b[0;34m,\u001b[0m\u001b[0maxis\u001b[0m\u001b[0;34m=\u001b[0m\u001b[0;36m0\u001b[0m\u001b[0;34m)\u001b[0m\u001b[0;34m.\u001b[0m\u001b[0mastype\u001b[0m\u001b[0;34m(\u001b[0m\u001b[0mint\u001b[0m\u001b[0;34m)\u001b[0m\u001b[0;34m\u001b[0m\u001b[0m\n\u001b[0m\u001b[1;32m      2\u001b[0m \u001b[0mgeoTest\u001b[0m \u001b[0;34m=\u001b[0m\u001b[0;34m[\u001b[0m\u001b[0;34m]\u001b[0m\u001b[0;34m\u001b[0m\u001b[0m\n\u001b[1;32m      3\u001b[0m \u001b[0;32mfor\u001b[0m \u001b[0mi\u001b[0m \u001b[0;32min\u001b[0m \u001b[0mrange\u001b[0m\u001b[0;34m(\u001b[0m\u001b[0mmax\u001b[0m\u001b[0;34m(\u001b[0m\u001b[0mcatFrame\u001b[0m\u001b[0;34m[\u001b[0m\u001b[0;34m'UNSD Geographical Grouping'\u001b[0m\u001b[0;34m]\u001b[0m\u001b[0;34m)\u001b[0m\u001b[0;34m)\u001b[0m\u001b[0;34m:\u001b[0m\u001b[0;34m\u001b[0m\u001b[0m\n\u001b[1;32m      4\u001b[0m     \u001b[0mgeoTest\u001b[0m\u001b[0;34m.\u001b[0m\u001b[0mappend\u001b[0m\u001b[0;34m(\u001b[0m\u001b[0mnp\u001b[0m\u001b[0;34m.\u001b[0m\u001b[0mappend\u001b[0m\u001b[0;34m(\u001b[0m\u001b[0;34m[\u001b[0m\u001b[0mi\u001b[0m\u001b[0;34m]\u001b[0m\u001b[0;34m,\u001b[0m\u001b[0mx_avg\u001b[0m\u001b[0;34m[\u001b[0m\u001b[0;36m1\u001b[0m\u001b[0;34m:\u001b[0m\u001b[0;34m]\u001b[0m\u001b[0;34m)\u001b[0m\u001b[0;34m)\u001b[0m\u001b[0;34m\u001b[0m\u001b[0m\n\u001b[1;32m      5\u001b[0m \u001b[0mgeoTest\u001b[0m \u001b[0;34m=\u001b[0m \u001b[0mnp\u001b[0m\u001b[0;34m.\u001b[0m\u001b[0marray\u001b[0m\u001b[0;34m(\u001b[0m\u001b[0mgeoTest\u001b[0m\u001b[0;34m)\u001b[0m\u001b[0;34m\u001b[0m\u001b[0m\n",
      "\u001b[0;32m/anaconda/lib/python3.6/site-packages/numpy/core/fromnumeric.py\u001b[0m in \u001b[0;36mmean\u001b[0;34m(a, axis, dtype, out, keepdims)\u001b[0m\n\u001b[1;32m   2907\u001b[0m \u001b[0;34m\u001b[0m\u001b[0m\n\u001b[1;32m   2908\u001b[0m     return _methods._mean(a, axis=axis, dtype=dtype,\n\u001b[0;32m-> 2909\u001b[0;31m                           out=out, **kwargs)\n\u001b[0m\u001b[1;32m   2910\u001b[0m \u001b[0;34m\u001b[0m\u001b[0m\n\u001b[1;32m   2911\u001b[0m \u001b[0;34m\u001b[0m\u001b[0m\n",
      "\u001b[0;32m/anaconda/lib/python3.6/site-packages/numpy/core/_methods.py\u001b[0m in \u001b[0;36m_mean\u001b[0;34m(a, axis, dtype, out, keepdims)\u001b[0m\n\u001b[1;32m     68\u001b[0m             \u001b[0mis_float16_result\u001b[0m \u001b[0;34m=\u001b[0m \u001b[0;32mTrue\u001b[0m\u001b[0;34m\u001b[0m\u001b[0m\n\u001b[1;32m     69\u001b[0m \u001b[0;34m\u001b[0m\u001b[0m\n\u001b[0;32m---> 70\u001b[0;31m     \u001b[0mret\u001b[0m \u001b[0;34m=\u001b[0m \u001b[0mumr_sum\u001b[0m\u001b[0;34m(\u001b[0m\u001b[0marr\u001b[0m\u001b[0;34m,\u001b[0m \u001b[0maxis\u001b[0m\u001b[0;34m,\u001b[0m \u001b[0mdtype\u001b[0m\u001b[0;34m,\u001b[0m \u001b[0mout\u001b[0m\u001b[0;34m,\u001b[0m \u001b[0mkeepdims\u001b[0m\u001b[0;34m)\u001b[0m\u001b[0;34m\u001b[0m\u001b[0m\n\u001b[0m\u001b[1;32m     71\u001b[0m     \u001b[0;32mif\u001b[0m \u001b[0misinstance\u001b[0m\u001b[0;34m(\u001b[0m\u001b[0mret\u001b[0m\u001b[0;34m,\u001b[0m \u001b[0mmu\u001b[0m\u001b[0;34m.\u001b[0m\u001b[0mndarray\u001b[0m\u001b[0;34m)\u001b[0m\u001b[0;34m:\u001b[0m\u001b[0;34m\u001b[0m\u001b[0m\n\u001b[1;32m     72\u001b[0m         ret = um.true_divide(\n",
      "\u001b[0;31mTypeError\u001b[0m: unsupported operand type(s) for +: 'int' and 'str'"
     ]
    }
   ],
   "source": [
    "x_avg = np.mean(x,axis=0).astype(int)\n",
    "geoTest =[]\n",
    "for i in range(max(catFrame['UNSD Geographical Grouping'])):\n",
    "    geoTest.append(np.append([i],x_avg[1:]))\n",
    "geoTest = np.array(geoTest)\n",
    "geoY = nnModel.predict(geoTest)\n",
    "geoY"
   ]
  },
  {
   "cell_type": "code",
   "execution_count": null,
   "metadata": {
    "collapsed": true
   },
   "outputs": [],
   "source": [
    "mrTest =[]\n",
    "for i in range(max(catFrame['Migrant Route'])):\n",
    "    mrTest.append(np.append(x_avg[:1],np.append([i],x_avg[2:])))\n",
    "mrTest = np.array(mrTest)\n",
    "mrY = nnModel.predict(mrTest)\n",
    "mrY\n"
   ]
  },
  {
   "cell_type": "code",
   "execution_count": null,
   "metadata": {
    "collapsed": true
   },
   "outputs": [],
   "source": [
    "regionTest =[]\n",
    "for i in range(max(catFrame['Region of Incident'])):\n",
    "    regionTest.append(np.append(x_avg[:2],np.append([i],x_avg[3:])))\n",
    "regionTest = np.array(regionTest)\n",
    "regionY = nnModel.predict(regionTest)\n",
    "regionY"
   ]
  },
  {
   "cell_type": "code",
   "execution_count": null,
   "metadata": {
    "collapsed": true
   },
   "outputs": [],
   "source": []
  },
  {
   "cell_type": "code",
   "execution_count": null,
   "metadata": {
    "collapsed": true
   },
   "outputs": [],
   "source": []
  },
  {
   "cell_type": "code",
   "execution_count": null,
   "metadata": {
    "collapsed": true
   },
   "outputs": [],
   "source": []
  }
 ],
 "metadata": {
  "kernelspec": {
   "display_name": "Python 3",
   "language": "python",
   "name": "python3"
  },
  "language_info": {
   "codemirror_mode": {
    "name": "ipython",
    "version": 3
   },
   "file_extension": ".py",
   "mimetype": "text/x-python",
   "name": "python",
   "nbconvert_exporter": "python",
   "pygments_lexer": "ipython3",
   "version": "3.6.1"
  }
 },
 "nbformat": 4,
 "nbformat_minor": 2
}
