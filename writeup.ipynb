{
 "cells": [
  {
   "cell_type": "markdown",
   "metadata": {},
   "source": [
    "Our dataset is the from the [Missing Migrants Project](https://missingmigrants.iom.int/)   which \"tracks deaths of migrants, including refugees and asylum-seekers, who have gone missing along mixed migration routes worldwide.\"  The dataset is being continuously updated and includes 3200 rows and 18 features.\n",
    "\n",
    "Our goal was to predict if a migration would be successful.  We used two different target variavles: percent of people that would survive the migration [0,100] and if 50% or more of the people involved would survive [0,1].\n",
    "\n",
    "It should be noted that our dataset is very sparse with a lot of zero cells."
   ]
  },
  {
   "cell_type": "markdown",
   "metadata": {},
   "source": [
    "Importing the data"
   ]
  },
  {
   "cell_type": "code",
   "execution_count": 15,
   "metadata": {
    "collapsed": true
   },
   "outputs": [],
   "source": [
    "import numpy as np\n",
    "import pandas as pd\n",
    "import matplotlib.pyplot as plt\n",
    "import math"
   ]
  },
  {
   "cell_type": "code",
   "execution_count": 16,
   "metadata": {
    "collapsed": true
   },
   "outputs": [],
   "source": [
    "seventeen = pd.read_json(\"https://missingmigrants.iom.int/global-figures/2017/json\")\n",
    "sixteen = pd.read_json(\"https://missingmigrants.iom.int/global-figures/2016/json\")\n",
    "fifteen = pd.read_json(\"https://missingmigrants.iom.int/global-figures/2015/json\")\n",
    "fourteen = pd.read_json(\"https://missingmigrants.iom.int/global-figures/2014/json\")\n",
    "\n",
    "frames = [seventeen,sixteen,fifteen,fourteen]\n",
    "df = pd.concat(frames)"
   ]
  },
  {
   "cell_type": "markdown",
   "metadata": {},
   "source": [
    "Cleaning the data"
   ]
  },
  {
   "cell_type": "code",
   "execution_count": 17,
   "metadata": {
    "collapsed": true
   },
   "outputs": [],
   "source": [
    "df = df.replace('', 0,regex=True)\n",
    "df = df.replace('nan', 0, regex=True)\n",
    "df.drop(['Information Source'])\n",
    "df = df[df['Web ID'] != 42424] #drops row with -1 as number of survivors\n",
    "\n",
    "df['Reported Date'] = pd.to_datetime(df['Reported Date'])\n",
    "df['total people'] = pd.to_numeric(df['Number of survivors']) + pd.to_numeric(df['Total Dead and Missing'])\n",
    "df['percent female'] = (pd.to_numeric(df['Number of Female'])/ df['total people']).fillna(0)\n",
    "df['percent male'] =  (pd.to_numeric(df['Number of Male'])/ df['total people']).fillna(0)\n",
    "df['percent kids'] =  (pd.to_numeric(df['Number of Children']) / df['total people']).fillna(0)\n",
    "df['month'] = df['Reported Date'].dt.month\n",
    "df['day'] = df['Reported Date'].dt.day\n",
    "\n",
    "#latitude and longitude to cartesian\n",
    "R = 6371\n",
    "df['x'] = df['Location'].apply(lambda latLong: R*math.cos(float(latLong.split(\", \")[0]))*math.cos(float(latLong.split(\", \")[1])))\n",
    "df['y'] = df['Location'].apply(lambda latLong: R*math.cos(float(latLong.split(\", \")[0]))*math.sin(float(latLong.split(\", \")[1])))\n",
    "df['z'] = df['Location'].apply(lambda latLong: R*math.sin(float(latLong.split(\", \")[0])))"
   ]
  },
  {
   "cell_type": "markdown",
   "metadata": {},
   "source": [
    "Using both one hot coding and direct categorical replacement methods"
   ]
  },
  {
   "cell_type": "code",
   "execution_count": 18,
   "metadata": {
    "collapsed": true
   },
   "outputs": [],
   "source": [
    "ohc_UNSD = pd.get_dummies(df['UNSD Geographical Grouping'],prefix='UNSD')\n",
    "ohc_Route = pd.get_dummies(df['Migrant Route'],prefix='Route')\n",
    "ohc_Region = pd.get_dummies(df['Region of Incident'],prefix='Region')\n",
    "                            \n",
    "oneHotCodeFrame = df.copy(deep=True)\n",
    "oneHotCodeFrame = oneHotCodeFrame.join(ohc_UNSD)\n",
    "oneHotCodeFrame = oneHotCodeFrame.join(ohc_Region)\n",
    "oneHotCodeFrame = oneHotCodeFrame.join(ohc_Route)\n",
    "                            \n",
    "catFrame = df.copy(deep=True)\n",
    "# the index will help us get back from number to category later\n",
    "catFrame['UNSD Geographical Grouping'], geoIndex = pd.Series(catFrame['UNSD Geographical Grouping']).factorize()\n",
    "catFrame['Migrant Route'], migrantIndex = pd.Series(catFrame['Migrant Route']).factorize()\n",
    "catFrame['Region of Incident'], regionIndex = pd.Series(catFrame['Region of Incident']).factorize()"
   ]
  },
  {
   "cell_type": "markdown",
   "metadata": {},
   "source": [
    "We started with a linear model"
   ]
  },
  {
   "cell_type": "code",
   "execution_count": 19,
   "metadata": {
    "collapsed": true
   },
   "outputs": [],
   "source": [
    "from sklearn import linear_model\n",
    "from sklearn.model_selection import ShuffleSplit"
   ]
  },
  {
   "cell_type": "code",
   "execution_count": 20,
   "metadata": {
    "collapsed": true
   },
   "outputs": [],
   "source": [
    "def linear(dataframe):\n",
    "    y = np.array((pd.to_numeric(dataframe['Number of survivors']) / dataframe['total people']).fillna(0))\n",
    "    y = np.nan_to_num(y)\n",
    "    y[y == np.abs(np.inf)] = 0\n",
    "    \n",
    "    y = (100*y).astype(int)\n",
    "\n",
    "    x = np.array(dataframe[['UNSD Geographical Grouping', 'Migrant Route', 'Region of Incident', 'percent female',\n",
    "                     'percent kids', 'percent male', 'month', 'day','x','y','z']])\n",
    "    x = np.nan_to_num(x)\n",
    "\n",
    "    x[:,3] = (100*x[:,3]).astype(int)\n",
    "    x[:,4] = (100*x[:,4]).astype(int)\n",
    "    x[:,2] = (100*x[:,2]).astype(int)\n",
    "\n",
    "\n",
    "    rs = ShuffleSplit(n_splits=3, test_size=.25, random_state=0)\n",
    "\n",
    "    for train_index, test_index in rs.split(x):\n",
    "        regr = linear_model.LinearRegression()\n",
    "        regr.fit(x[train_index],y[train_index])\n",
    "        print(\"train: \", regr.score(x[train_index],y[train_index]) )\n",
    "        print(\"test: \", regr.score(x[test_index],y[test_index]))\n",
    "    print()"
   ]
  },
  {
   "cell_type": "markdown",
   "metadata": {},
   "source": [
    "Testing with the categorical frame and a subset of the frame to see how the two compare"
   ]
  },
  {
   "cell_type": "code",
   "execution_count": 21,
   "metadata": {},
   "outputs": [
    {
     "name": "stderr",
     "output_type": "stream",
     "text": [
      "C:\\Users\\kimmy\\Miniconda2\\envs\\py35\\lib\\site-packages\\ipykernel_launcher.py:12: RuntimeWarning: overflow encountered in multiply\n",
      "  if sys.path[0] == '':\n",
      "C:\\Users\\kimmy\\Miniconda2\\envs\\py35\\lib\\site-packages\\ipykernel_launcher.py:13: RuntimeWarning: overflow encountered in multiply\n",
      "  del sys.path[0]\n"
     ]
    },
    {
     "name": "stdout",
     "output_type": "stream",
     "text": [
      "train:  0.216011655788\n",
      "test:  0.17190583901\n",
      "train:  0.206562679546\n",
      "test:  0.205824170848\n",
      "train:  0.213825417617\n",
      "test:  0.176598355868\n",
      "\n",
      "train:  0.375450226375\n",
      "test:  0.272521252022\n",
      "train:  0.409025317397\n",
      "test:  0.0906210977257\n",
      "train:  0.326132863633\n",
      "test:  0.371263618695\n",
      "\n"
     ]
    }
   ],
   "source": [
    "linear(catFrame)\n",
    "linear(catFrame[catFrame['UNSD Geographical Grouping'] == geoIndex.get_loc('Central America')])"
   ]
  },
  {
   "cell_type": "code",
   "execution_count": 22,
   "metadata": {
    "collapsed": true
   },
   "outputs": [],
   "source": [
    "def ohcLinear(dataframe):\n",
    "    y = np.array((pd.to_numeric(dataframe['Number of survivors']) / dataframe['total people']).fillna(0))\n",
    "    y = np.nan_to_num(y)\n",
    "    y[y == np.abs(np.inf)] = 0    \n",
    "    y = (100*y).astype(int)\n",
    "\n",
    "    x = np.array(dataframe[['percent female','percent kids', 'percent male', 'month', 'day','x','y','z']])\n",
    "    x = np.nan_to_num(x)\n",
    "\n",
    "    x[:,0] = (100*x[:,0]).astype(int)\n",
    "    x[:,1] = (100*x[:,1]).astype(int)\n",
    "    x[:,2] = (100*x[:,2]).astype(int)\n",
    "\n",
    "\n",
    "    rs = ShuffleSplit(n_splits=3, test_size=.25, random_state=0)\n",
    "\n",
    "    for train_index, test_index in rs.split(x):\n",
    "        regr = linear_model.LinearRegression()\n",
    "        regr.fit(x[train_index],y[train_index])\n",
    "        print(\"train: \", regr.score(x[train_index],y[train_index]) )\n",
    "        print(\"test: \", regr.score(x[test_index],y[test_index]))\n",
    "    print()"
   ]
  },
  {
   "cell_type": "code",
   "execution_count": 23,
   "metadata": {},
   "outputs": [
    {
     "name": "stderr",
     "output_type": "stream",
     "text": [
      "C:\\Users\\kimmy\\Miniconda2\\envs\\py35\\lib\\site-packages\\ipykernel_launcher.py:10: RuntimeWarning: overflow encountered in multiply\n",
      "  # Remove the CWD from sys.path while we load stuff.\n",
      "C:\\Users\\kimmy\\Miniconda2\\envs\\py35\\lib\\site-packages\\ipykernel_launcher.py:11: RuntimeWarning: overflow encountered in multiply\n",
      "  # This is added back by InteractiveShellApp.init_path()\n"
     ]
    },
    {
     "name": "stdout",
     "output_type": "stream",
     "text": [
      "train:  0.0938593393261\n",
      "test:  0.0952305442274\n",
      "train:  0.0934463600139\n",
      "test:  0.0963295735941\n",
      "train:  0.0960931169061\n",
      "test:  0.0882292992852\n",
      "\n"
     ]
    }
   ],
   "source": [
    "ohcLinear(oneHotCodeFrame)"
   ]
  },
  {
   "cell_type": "markdown",
   "metadata": {},
   "source": [
    "We also tried SVM"
   ]
  },
  {
   "cell_type": "code",
   "execution_count": 24,
   "metadata": {
    "collapsed": true
   },
   "outputs": [],
   "source": [
    "from sklearn import svm\n",
    "from sklearn.metrics import confusion_matrix"
   ]
  },
  {
   "cell_type": "code",
   "execution_count": 25,
   "metadata": {
    "collapsed": true
   },
   "outputs": [],
   "source": [
    "def suppVector(dataframe):\n",
    "\n",
    "    y = np.array((pd.to_numeric(dataframe['Number of survivors']) / dataframe['total people']).fillna(0))\n",
    "    y = np.nan_to_num(y)\n",
    "    y[y == np.abs(np.inf)] = 0\n",
    "    y = (100*y).astype(int)\n",
    "\n",
    "    x = np.array(dataframe[['percent female', 'percent kids', 'percent male', 'day','month']])\n",
    "    x = np.column_stack((x,np.array(dataframe.loc[:,'UNSD_0':])))\n",
    "    x = np.nan_to_num(x)\n",
    "    x[:,0] = (100*x[:,0]).astype(int)\n",
    "    x[:,1] = (100*x[:,1]).astype(int)\n",
    "    x[:,2] = (100*x[:,2]).astype(int)\n",
    "\n",
    "    ntr = len(y)//4 *3\n",
    "    x_tr = x[:ntr,:]\n",
    "    y_tr = y[:ntr]\n",
    "    x_ts = x[ntr:,:]\n",
    "    y_ts = y[ntr:]\n",
    "    \n",
    "    svc = svm.SVC(probability = False, kernel = \"rbf\", C = 1.0, gamma = 1/ntr, verbose = 10)\n",
    "    \n",
    "    print(x_ts.shape,y_ts.shape)\n",
    "    print(x_tr.shape,y_tr.shape)\n",
    "    print(ntr)\n",
    "    svc.fit(x_tr,y_tr)\n",
    "    \n",
    "    yhat = svc.predict(x_ts)\n",
    "    acc = np.mean(yhat == y_ts)\n",
    "    print('Accuracy = {0:f}'.format(acc))"
   ]
  },
  {
   "cell_type": "code",
   "execution_count": null,
   "metadata": {
    "collapsed": true
   },
   "outputs": [],
   "source": [
    "def suppVectorCat(dataframe):\n",
    "    y = np.array((pd.to_numeric(dataframe['Number of survivors']) / dataframe['total people']).fillna(0))\n",
    "    y = np.nan_to_num(y)\n",
    "    y[y == np.abs(np.inf)] = 0\n",
    "    y = (100*y).astype(int)\n",
    "\n",
    "    x = np.array(dataframe[['UNSD Geographical Grouping', 'Migrant Route', 'Region of Incident', 'percent female',\n",
    "                     'percent kids', 'percent male', 'month', 'day','x','y','z']])\n",
    "    x = np.nan_to_num(x)\n",
    "\n",
    "    x[:,3] = (100*x[:,3]).astype(int)\n",
    "    x[:,4] = (100*x[:,4]).astype(int)\n",
    "    x[:,2] = (100*x[:,2]).astype(int)\n",
    "\n",
    "    ntr = len(y)//4 *3\n",
    "    x_tr = x[:ntr,:]\n",
    "    y_tr = y[:ntr]\n",
    "    x_ts = x[ntr:,:]\n",
    "    y_ts = y[ntr:]\n",
    "    \n",
    "    svc = svm.SVC(probability = False, kernel = \"rbf\", C = 1.0, gamma = 1/ntr, verbose = 10)\n",
    "    \n",
    "    print(x_ts.shape,y_ts.shape)\n",
    "    print(x_tr.shape,y_tr.shape)\n",
    "    print(ntr)\n",
    "    svc.fit(x_tr,y_tr)\n",
    "    \n",
    "    yhat = svc.predict(x_ts)\n",
    "    acc = np.mean(yhat == y_ts)\n",
    "    print('Accuracy = {0:f}'.format(acc))"
   ]
  },
  {
   "cell_type": "code",
   "execution_count": null,
   "metadata": {},
   "outputs": [
    {
     "name": "stderr",
     "output_type": "stream",
     "text": [
      "C:\\Users\\kimmy\\Miniconda2\\envs\\py35\\lib\\site-packages\\ipykernel_launcher.py:11: RuntimeWarning: overflow encountered in multiply\n",
      "  # This is added back by InteractiveShellApp.init_path()\n",
      "C:\\Users\\kimmy\\Miniconda2\\envs\\py35\\lib\\site-packages\\ipykernel_launcher.py:12: RuntimeWarning: overflow encountered in multiply\n",
      "  if sys.path[0] == '':\n"
     ]
    },
    {
     "name": "stdout",
     "output_type": "stream",
     "text": [
      "(802, 11) (802,)\n",
      "(2397, 11) (2397,)\n",
      "2397\n",
      "[LibSVM]"
     ]
    }
   ],
   "source": [
    "suppVectorCat(catFrame)\n",
    "# suppVector(oneHotCodeFrame) #this takes forever"
   ]
  },
  {
   "cell_type": "markdown",
   "metadata": {},
   "source": [
    "We also tried a neural network"
   ]
  },
  {
   "cell_type": "code",
   "execution_count": null,
   "metadata": {},
   "outputs": [],
   "source": [
    "import keras\n",
    "from keras.models import Model,Sequential\n",
    "from keras.layers import Dense,Activation\n",
    "import keras.backend as K\n",
    "from sklearn.model_selection import train_test_split\n",
    "from keras import optimizers"
   ]
  },
  {
   "cell_type": "code",
   "execution_count": null,
   "metadata": {
    "collapsed": true
   },
   "outputs": [],
   "source": [
    "def nn(dataframe):\n",
    "    y = np.array((pd.to_numeric(dataframe['Number of survivors']) / dataframe['total people']).fillna(0))\n",
    "    y = np.nan_to_num(y)\n",
    "    y[y == np.abs(np.inf)] = 0\n",
    "    \n",
    "    y = (100*y).astype(int)\n",
    "    x = np.array(dataframe[['UNSD Geographical Grouping', 'Migrant Route', 'Region of Incident', 'percent female',\n",
    "                     'percent kids', 'percent male', 'month', 'day']])\n",
    "    x = np.nan_to_num(x)\n",
    "\n",
    "    x[:,3] = (100*x[:,3]).astype(int)\n",
    "    x[:,4] = (100*x[:,4]).astype(int)\n",
    "    x[:,2] = (100*x[:,2]).astype(int)\n",
    "    \n",
    "    ntr = len(y)//4 *3\n",
    "    x_tr = x[:ntr,:]\n",
    "    y_tr = y[:ntr]\n",
    "    x_ts = x[ntr:,:]\n",
    "    y_ts = y[ntr:]\n",
    "\n",
    "    K.clear_session()\n",
    "\n",
    "    nin = x.shape[1]\n",
    "    nout = int(np.max(y)+1) \n",
    "    model = Sequential()\n",
    "    model.add(Dense(100, input_shape=(nin,), activation='sigmoid', name='hidden'))\n",
    "    model.add(Dense(nout, activation='softmax', name='output'))\n",
    "\n",
    "    model.summary()\n",
    "\n",
    "    opt = optimizers.Adam(lr=0.001) # beta_1=0.9, beta_2=0.999, epsilon=1e-08, decay=0.0)\n",
    "    model.compile(optimizer=opt,\n",
    "                  loss='sparse_categorical_crossentropy',\n",
    "                  metrics=['accuracy'])\n",
    "    model.fit(x_tr, y_tr, epochs=10, batch_size=100, validation_data=(x_ts,y_ts))\n",
    "    return model,x_tr,y_tr,x_ts,y_ts,x,y"
   ]
  },
  {
   "cell_type": "code",
   "execution_count": null,
   "metadata": {},
   "outputs": [],
   "source": [
    "nnFrame = catFrame.copy(deep=True) #as to keep same df for later use\n",
    "nnModel,x_tr,y_tr,x_ts,y_ts,x,y = nn(nnFrame)"
   ]
  },
  {
   "cell_type": "code",
   "execution_count": null,
   "metadata": {},
   "outputs": [],
   "source": []
  }
 ],
 "metadata": {
  "kernelspec": {
   "display_name": "Python 3",
   "language": "python",
   "name": "python3"
  },
  "language_info": {
   "codemirror_mode": {
    "name": "ipython",
    "version": 3
   },
   "file_extension": ".py",
   "mimetype": "text/x-python",
   "name": "python",
   "nbconvert_exporter": "python",
   "pygments_lexer": "ipython3",
   "version": "3.5.4"
  }
 },
 "nbformat": 4,
 "nbformat_minor": 2
}
