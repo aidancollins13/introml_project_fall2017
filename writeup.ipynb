{
 "cells": [
  {
   "cell_type": "markdown",
   "metadata": {},
   "source": [
    "# Migrant Survival Rate Prediction"
   ]
  },
  {
   "cell_type": "markdown",
   "metadata": {},
   "source": [
    "Our dataset is the from the [Missing Migrants Project](https://missingmigrants.iom.int/)   which \"tracks deaths of migrants, including refugees and asylum-seekers, who have gone missing along mixed migration routes worldwide.\"  The dataset is being continuously updated and includes 3200 rows and 18 features.\n",
    "\n",
    "Our goal was to predict if a migration would be successful.  We used two different target variavles: percent of people that would survive the migration [0,100] and if 50% or more of the people involved would survive [0,1].\n",
    "\n",
    "It should be noted that our dataset is very sparse with a lot of zero cells."
   ]
  },
  {
   "cell_type": "markdown",
   "metadata": {},
   "source": [
    "Importing the data"
   ]
  },
  {
   "cell_type": "code",
   "execution_count": 2,
   "metadata": {
    "collapsed": true
   },
   "outputs": [],
   "source": [
    "import numpy as np\n",
    "import pandas as pd\n",
    "import matplotlib.pyplot as plt\n",
    "import math"
   ]
  },
  {
   "cell_type": "code",
   "execution_count": 5,
   "metadata": {},
   "outputs": [],
   "source": [
    "seventeen = pd.read_json(\"https://missingmigrants.iom.int/global-figures/2017/json\")\n",
    "sixteen = pd.read_json(\"https://missingmigrants.iom.int/global-figures/2016/json\")\n",
    "fifteen = pd.read_json(\"https://missingmigrants.iom.int/global-figures/2015/json\")\n",
    "fourteen = pd.read_json(\"https://missingmigrants.iom.int/global-figures/2014/json\")"
   ]
  },
  {
   "cell_type": "code",
   "execution_count": 14,
   "metadata": {
    "collapsed": true
   },
   "outputs": [],
   "source": [
    "frames = [seventeen,sixteen,fifteen,fourteen]\n",
    "df = pd.concat(frames)"
   ]
  },
  {
   "cell_type": "markdown",
   "metadata": {},
   "source": [
    "Cleaning the data"
   ]
  },
  {
   "cell_type": "code",
   "execution_count": 16,
   "metadata": {
    "collapsed": true
   },
   "outputs": [],
   "source": [
    "df = df.replace('', 0,regex=True)\n",
    "df = df.replace('nan', 0, regex=True)\n",
    "df.drop(['Information Source'])\n",
    "df = df[df['Web ID'] != 42424] #drops row with -1 as number of survivors\n",
    "\n",
    "df['Reported Date'] = pd.to_datetime(df['Reported Date'])\n",
    "df['total people'] = pd.to_numeric(df['Number of survivors']) + pd.to_numeric(df['Total Dead and Missing'])\n",
    "df['percent female'] = (pd.to_numeric(df['Number of Female'])/ df['total people']).fillna(0)\n",
    "df['percent male'] =  (pd.to_numeric(df['Number of Male'])/ df['total people']).fillna(0)\n",
    "df['percent kids'] =  (pd.to_numeric(df['Number of Children']) / df['total people']).fillna(0)\n",
    "df['month'] = df['Reported Date'].dt.month\n",
    "df['day'] = df['Reported Date'].dt.day\n",
    "\n",
    "#latitude and longitude to cartesian\n",
    "R = 6371\n",
    "df['x'] = df['Location'].apply(lambda latLong: R*math.cos(float(latLong.split(\", \")[0]))*math.cos(float(latLong.split(\", \")[1])))\n",
    "df['y'] = df['Location'].apply(lambda latLong: R*math.cos(float(latLong.split(\", \")[0]))*math.sin(float(latLong.split(\", \")[1])))\n",
    "df['z'] = df['Location'].apply(lambda latLong: R*math.sin(float(latLong.split(\", \")[0])))"
   ]
  },
  {
   "cell_type": "markdown",
   "metadata": {},
   "source": [
    "Using both one hot coding and direct categorical replacement methods"
   ]
  },
  {
   "cell_type": "code",
   "execution_count": 17,
   "metadata": {
    "collapsed": true
   },
   "outputs": [],
   "source": [
    "ohc_UNSD = pd.get_dummies(df['UNSD Geographical Grouping'],prefix='UNSD')\n",
    "ohc_Route = pd.get_dummies(df['Migrant Route'],prefix='Route')\n",
    "ohc_Region = pd.get_dummies(df['Region of Incident'],prefix='Region')\n",
    "                            \n",
    "oneHotCodeFrame = df.copy(deep=True)\n",
    "oneHotCodeFrame = oneHotCodeFrame.join(ohc_UNSD)\n",
    "oneHotCodeFrame = oneHotCodeFrame.join(ohc_Region)\n",
    "oneHotCodeFrame = oneHotCodeFrame.join(ohc_Route)\n",
    "                            \n",
    "catFrame = df.copy(deep=True)\n",
    "# the index will help us get back from number to category later\n",
    "catFrame['UNSD Geographical Grouping'], geoIndex = pd.Series(catFrame['UNSD Geographical Grouping']).factorize()\n",
    "catFrame['Migrant Route'], migrantIndex = pd.Series(catFrame['Migrant Route']).factorize()\n",
    "catFrame['Region of Incident'], regionIndex = pd.Series(catFrame['Region of Incident']).factorize()"
   ]
  },
  {
   "cell_type": "markdown",
   "metadata": {},
   "source": [
    "We started with a linear model, predicting the % of survivors on a migration"
   ]
  },
  {
   "cell_type": "code",
   "execution_count": 18,
   "metadata": {
    "collapsed": true
   },
   "outputs": [],
   "source": [
    "from sklearn import linear_model\n",
    "from sklearn.model_selection import ShuffleSplit"
   ]
  },
  {
   "cell_type": "code",
   "execution_count": 19,
   "metadata": {
    "collapsed": true
   },
   "outputs": [],
   "source": [
    "def linear(dataframe):\n",
    "    y = np.array((pd.to_numeric(dataframe['Number of survivors']) / dataframe['total people']).fillna(0))\n",
    "    y = np.nan_to_num(y)\n",
    "    y[y == np.abs(np.inf)] = 0\n",
    "    \n",
    "    y = (100*y).astype(int)\n",
    "\n",
    "    x = np.array(dataframe[['UNSD Geographical Grouping', 'Migrant Route', 'Region of Incident', 'percent female',\n",
    "                     'percent kids', 'percent male', 'month', 'day','x','y','z']])\n",
    "    x = np.nan_to_num(x)\n",
    "\n",
    "    x[:,3] = (100*x[:,3]).astype(int)\n",
    "    x[:,4] = (100*x[:,4]).astype(int)\n",
    "    x[:,2] = (100*x[:,2]).astype(int)\n",
    "\n",
    "\n",
    "    rs = ShuffleSplit(n_splits=3, test_size=.25, random_state=0)\n",
    "\n",
    "    for train_index, test_index in rs.split(x):\n",
    "        regr = linear_model.LinearRegression()\n",
    "        regr.fit(x[train_index],y[train_index])\n",
    "        print(\"train: \", regr.score(x[train_index],y[train_index]) )\n",
    "        print(\"test: \", regr.score(x[test_index],y[test_index]))\n",
    "    print()\n",
    "    plt.scatter(y,regr.predict(x))\n",
    "    plt.xlabel(\"actual y\")\n",
    "    plt.ylabel('predicted y')\n",
    "    plt.title('predicted vs actual survival')\n",
    "    plt.show()"
   ]
  },
  {
   "cell_type": "markdown",
   "metadata": {},
   "source": [
    "Testing with the categorical frame and a subset of the frame to see how the two compare"
   ]
  },
  {
   "cell_type": "code",
   "execution_count": 20,
   "metadata": {},
   "outputs": [
    {
     "name": "stderr",
     "output_type": "stream",
     "text": [
      "C:\\Users\\kimmy\\Miniconda2\\envs\\py35\\lib\\site-packages\\ipykernel_launcher.py:12: RuntimeWarning: overflow encountered in multiply\n",
      "  if sys.path[0] == '':\n",
      "C:\\Users\\kimmy\\Miniconda2\\envs\\py35\\lib\\site-packages\\ipykernel_launcher.py:13: RuntimeWarning: overflow encountered in multiply\n",
      "  del sys.path[0]\n"
     ]
    },
    {
     "name": "stdout",
     "output_type": "stream",
     "text": [
      "train:  0.216011655788\n",
      "test:  0.17190583901\n",
      "train:  0.206562679546\n",
      "test:  0.205824170848\n",
      "train:  0.213825417617\n",
      "test:  0.176598355868\n",
      "\n"
     ]
    },
    {
     "data": {
      "image/png": "[encoded data removed]",
      "text/plain": [
       "<matplotlib.figure.Figure at 0x21c5e21fb00>"
      ]
     },
     "metadata": {},
     "output_type": "display_data"
    },
    {
     "name": "stdout",
     "output_type": "stream",
     "text": [
      "train:  0.375450226375\n",
      "test:  0.272521252022\n",
      "train:  0.409025317397\n",
      "test:  0.0906210977257\n",
      "train:  0.326132863633\n",
      "test:  0.371263618695\n",
      "\n"
     ]
    },
    {
     "data": {
      "image/png": "[encoded data removed]",
      "text/plain": [
       "<matplotlib.figure.Figure at 0x21c5e435c18>"
      ]
     },
     "metadata": {},
     "output_type": "display_data"
    }
   ],
   "source": [
    "linear(catFrame)\n",
    "linear(catFrame[catFrame['UNSD Geographical Grouping'] == geoIndex.get_loc('Central America')])"
   ]
  },
  {
   "cell_type": "code",
   "execution_count": 21,
   "metadata": {
    "collapsed": true
   },
   "outputs": [],
   "source": [
    "def ohcLinear(dataframe):\n",
    "    y = np.array((pd.to_numeric(dataframe['Number of survivors']) / dataframe['total people']).fillna(0))\n",
    "    y = np.nan_to_num(y)\n",
    "    y[y == np.abs(np.inf)] = 0    \n",
    "    y = (100*y).astype(int)\n",
    "\n",
    "    x = np.array(dataframe[['percent female','percent kids', 'percent male', 'month', 'day','x','y','z']])\n",
    "    x = np.nan_to_num(x)\n",
    "\n",
    "    x[:,0] = (100*x[:,0]).astype(int)\n",
    "    x[:,1] = (100*x[:,1]).astype(int)\n",
    "    x[:,2] = (100*x[:,2]).astype(int)\n",
    "\n",
    "\n",
    "    rs = ShuffleSplit(n_splits=3, test_size=.25, random_state=0)\n",
    "\n",
    "    for train_index, test_index in rs.split(x):\n",
    "        regr = linear_model.LinearRegression()\n",
    "        regr.fit(x[train_index],y[train_index])\n",
    "        print(\"train: \", regr.score(x[train_index],y[train_index]) )\n",
    "        print(\"test: \", regr.score(x[test_index],y[test_index]))\n",
    "    print()\n",
    "    plt.scatter(y,regr.predict(x))\n",
    "    plt.xlabel(\"actual y\")\n",
    "    plt.ylabel('predicted y')\n",
    "    plt.title('predicted vs actual survival')\n",
    "    plt.show()"
   ]
  },
  {
   "cell_type": "markdown",
   "metadata": {},
   "source": [
    "Testing with one hot coding, predicting survival %"
   ]
  },
  {
   "cell_type": "code",
   "execution_count": 22,
   "metadata": {
    "scrolled": true
   },
   "outputs": [
    {
     "name": "stderr",
     "output_type": "stream",
     "text": [
      "C:\\Users\\kimmy\\Miniconda2\\envs\\py35\\lib\\site-packages\\ipykernel_launcher.py:10: RuntimeWarning: overflow encountered in multiply\n",
      "  # Remove the CWD from sys.path while we load stuff.\n",
      "C:\\Users\\kimmy\\Miniconda2\\envs\\py35\\lib\\site-packages\\ipykernel_launcher.py:11: RuntimeWarning: overflow encountered in multiply\n",
      "  # This is added back by InteractiveShellApp.init_path()\n"
     ]
    },
    {
     "name": "stdout",
     "output_type": "stream",
     "text": [
      "train:  0.0938593393261\n",
      "test:  0.0952305442274\n",
      "train:  0.0934463600139\n",
      "test:  0.0963295735941\n",
      "train:  0.0960931169061\n",
      "test:  0.0882292992852\n",
      "\n"
     ]
    },
    {
     "data": {
      "image/png": "[encoded data removed]",
      "text/plain": [
       "<matplotlib.figure.Figure at 0x21c5e480d30>"
      ]
     },
     "metadata": {},
     "output_type": "display_data"
    }
   ],
   "source": [
    "ohcLinear(oneHotCodeFrame)"
   ]
  },
  {
   "cell_type": "markdown",
   "metadata": {},
   "source": [
    "We also tried SVM to again predict % survived"
   ]
  },
  {
   "cell_type": "code",
   "execution_count": 23,
   "metadata": {
    "collapsed": true
   },
   "outputs": [],
   "source": [
    "from sklearn import svm\n",
    "from sklearn.metrics import confusion_matrix"
   ]
  },
  {
   "cell_type": "code",
   "execution_count": 24,
   "metadata": {
    "collapsed": true
   },
   "outputs": [],
   "source": [
    "def suppVector(dataframe):\n",
    "\n",
    "    y = np.array((pd.to_numeric(dataframe['Number of survivors']) / dataframe['total people']).fillna(0))\n",
    "    y = np.nan_to_num(y)\n",
    "    y[y == np.abs(np.inf)] = 0\n",
    "    y = (100*y).astype(int)\n",
    "\n",
    "    x = np.array(dataframe[['percent female', 'percent kids', 'percent male', 'day','month','x','y','z']])\n",
    "    x = np.column_stack((x,np.array(dataframe.loc[:,'UNSD_0':])))\n",
    "    x = np.nan_to_num(x)\n",
    "    x[:,0] = (100*x[:,0]).astype(int)\n",
    "    x[:,1] = (100*x[:,1]).astype(int)\n",
    "    x[:,2] = (100*x[:,2]).astype(int)\n",
    "\n",
    "    ntr = len(y)//4 *3\n",
    "    x_tr = x[:ntr,:]\n",
    "    y_tr = y[:ntr]\n",
    "    x_ts = x[ntr:,:]\n",
    "    y_ts = y[ntr:]\n",
    "    \n",
    "    svc = svm.SVC(probability = False, kernel = \"rbf\", C = 1.0, gamma = 1/ntr, verbose = 10)\n",
    "    \n",
    "    print(x_ts.shape,y_ts.shape)\n",
    "    print(x_tr.shape,y_tr.shape)\n",
    "    print(ntr)\n",
    "    svc.fit(x_tr,y_tr)\n",
    "    \n",
    "    yhat = svc.predict(x_ts)\n",
    "    acc = np.mean(yhat == y_ts)\n",
    "    print('Accuracy = {0:f}'.format(acc))\n",
    "    \n",
    "    plt.scatter(y,regr.predict(x))        \n",
    "    plt.xlabel(\"actual y\")\n",
    "    plt.ylabel('predicted y')\n",
    "    plt.title('predicted vs actual survival')\n",
    "    plt.show()"
   ]
  },
  {
   "cell_type": "code",
   "execution_count": 25,
   "metadata": {
    "collapsed": true
   },
   "outputs": [],
   "source": [
    "def suppVectorCat(dataframe):\n",
    "    y = np.array((pd.to_numeric(dataframe['Number of survivors']) / dataframe['total people']).fillna(0))\n",
    "    y = np.nan_to_num(y)\n",
    "    y[y == np.abs(np.inf)] = 0\n",
    "    y = (100*y).astype(int)\n",
    "\n",
    "    x = np.array(dataframe[['UNSD Geographical Grouping', 'Migrant Route', 'Region of Incident', 'percent female',\n",
    "                     'percent kids', 'percent male', 'month', 'day','x','y','z']])\n",
    "    x = np.nan_to_num(x)\n",
    "\n",
    "    x[:,3] = (100*x[:,3]).astype(int)\n",
    "    x[:,4] = (100*x[:,4]).astype(int)\n",
    "    x[:,2] = (100*x[:,2]).astype(int)\n",
    "\n",
    "    ntr = len(y)//4 *3\n",
    "    x_tr = x[:ntr,:]\n",
    "    y_tr = y[:ntr]\n",
    "    x_ts = x[ntr:,:]\n",
    "    y_ts = y[ntr:]\n",
    "    \n",
    "    svc = svm.SVC(probability = False, kernel = \"rbf\", C = 1.0, gamma = 1/ntr, verbose = 10)\n",
    "    \n",
    "    print(x_ts.shape,y_ts.shape)\n",
    "    print(x_tr.shape,y_tr.shape)\n",
    "    print(ntr)\n",
    "    svc.fit(x_tr,y_tr)\n",
    "    \n",
    "    yhat = svc.predict(x_ts)\n",
    "    acc = np.mean(yhat == y_ts)\n",
    "    print('Accuracy = {0:f}'.format(acc))\n",
    "    plt.scatter(y,svc.predict(x))\n",
    "    plt.xlabel(\"actual y\")\n",
    "    plt.ylabel('predicted y')\n",
    "    plt.title('predicted vs actual survival')\n",
    "    plt.show()"
   ]
  },
  {
   "cell_type": "code",
   "execution_count": 26,
   "metadata": {},
   "outputs": [
    {
     "name": "stderr",
     "output_type": "stream",
     "text": [
      "C:\\Users\\kimmy\\Miniconda2\\envs\\py35\\lib\\site-packages\\ipykernel_launcher.py:11: RuntimeWarning: overflow encountered in multiply\n",
      "  # This is added back by InteractiveShellApp.init_path()\n",
      "C:\\Users\\kimmy\\Miniconda2\\envs\\py35\\lib\\site-packages\\ipykernel_launcher.py:12: RuntimeWarning: overflow encountered in multiply\n",
      "  if sys.path[0] == '':\n"
     ]
    },
    {
     "name": "stdout",
     "output_type": "stream",
     "text": [
      "(802, 11) (802,)\n",
      "(2397, 11) (2397,)\n",
      "2397\n",
      "[LibSVM]Accuracy = 0.830424\n"
     ]
    },
    {
     "data": {
      "image/png": "[encoded data removed]",
      "text/plain": [
       "<matplotlib.figure.Figure at 0x21c5e4e43c8>"
      ]
     },
     "metadata": {},
     "output_type": "display_data"
    }
   ],
   "source": [
    "suppVectorCat(catFrame)\n",
    "# suppVector(oneHotCodeFrame) #this takes forever"
   ]
  },
  {
   "cell_type": "markdown",
   "metadata": {},
   "source": [
    "We also tried a neural network to predict both the % that will survive, and just if 50% or more will survive"
   ]
  },
  {
   "cell_type": "code",
   "execution_count": 27,
   "metadata": {},
   "outputs": [
    {
     "name": "stderr",
     "output_type": "stream",
     "text": [
      "Using TensorFlow backend.\n"
     ]
    }
   ],
   "source": [
    "import keras\n",
    "from keras.models import Model,Sequential\n",
    "from keras.layers import Dense,Activation\n",
    "import keras.backend as K\n",
    "from sklearn.model_selection import train_test_split\n",
    "from keras import optimizers"
   ]
  },
  {
   "cell_type": "markdown",
   "metadata": {},
   "source": [
    "Predicting the % that will survive"
   ]
  },
  {
   "cell_type": "code",
   "execution_count": 28,
   "metadata": {
    "collapsed": true
   },
   "outputs": [],
   "source": [
    "def nnCat(dataframe):\n",
    "    y = np.array((pd.to_numeric(dataframe['Number of survivors']) / dataframe['total people']).fillna(0))\n",
    "    y = np.nan_to_num(y)\n",
    "    y[y == np.abs(np.inf)] = 0\n",
    "    \n",
    "    y = (100*y).astype(int)\n",
    "\n",
    "\n",
    "    x = np.array(dataframe[['UNSD Geographical Grouping', 'Migrant Route', 'Region of Incident', 'percent female',\n",
    "                     'percent kids', 'percent male', 'month', 'day']])\n",
    "    x = np.nan_to_num(x)\n",
    "\n",
    "    x[:,3] = (100*x[:,3]).astype(int)\n",
    "    x[:,4] = (100*x[:,4]).astype(int)\n",
    "    x[:,2] = (100*x[:,2]).astype(int)\n",
    "    \n",
    "    ntr = len(y)//4 *3\n",
    "    x_tr = x[:ntr,:]\n",
    "    y_tr = y[:ntr]\n",
    "    x_ts = x[ntr:,:]\n",
    "    y_ts = y[ntr:]\n",
    "\n",
    "    K.clear_session()\n",
    "\n",
    "    nin = x.shape[1]\n",
    "    nout = int(np.max(y)+1) \n",
    "    model = Sequential()\n",
    "    model.add(Dense(100, input_shape=(nin,), activation='relu', name='hidden'))\n",
    "    model.add(Dense(nout, activation='softmax', name='output'))\n",
    "\n",
    "    model.summary()\n",
    "\n",
    "    opt = optimizers.Adam(lr=0.01) # beta_1=0.9, beta_2=0.999, epsilon=1e-08, decay=0.0)\n",
    "    model.compile(optimizer=opt,\n",
    "                  loss='sparse_categorical_crossentropy',\n",
    "                  metrics=['accuracy'])\n",
    "    model.fit(x_tr, y_tr, epochs=10, batch_size=100, validation_data=(x_ts,y_ts))"
   ]
  },
  {
   "cell_type": "code",
   "execution_count": 29,
   "metadata": {},
   "outputs": [
    {
     "name": "stderr",
     "output_type": "stream",
     "text": [
      "C:\\Users\\kimmy\\Miniconda2\\envs\\py35\\lib\\site-packages\\ipykernel_launcher.py:13: RuntimeWarning: overflow encountered in multiply\n",
      "  del sys.path[0]\n",
      "C:\\Users\\kimmy\\Miniconda2\\envs\\py35\\lib\\site-packages\\ipykernel_launcher.py:14: RuntimeWarning: overflow encountered in multiply\n",
      "  \n"
     ]
    },
    {
     "name": "stdout",
     "output_type": "stream",
     "text": [
      "_________________________________________________________________\n",
      "Layer (type)                 Output Shape              Param #   \n",
      "=================================================================\n",
      "hidden (Dense)               (None, 100)               900       \n",
      "_________________________________________________________________\n",
      "output (Dense)               (None, 100)               10100     \n",
      "=================================================================\n",
      "Total params: 11,000\n",
      "Trainable params: 11,000\n",
      "Non-trainable params: 0\n",
      "_________________________________________________________________\n",
      "Train on 2397 samples, validate on 802 samples\n",
      "Epoch 1/10\n",
      "2397/2397 [==============================] - 2s 633us/step - loss: 3.0492 - acc: 0.7968 - val_loss: 2.7193 - val_acc: 0.8304\n",
      "Epoch 2/10\n",
      "2397/2397 [==============================] - 0s 166us/step - loss: 2.1779 - acc: 0.8632 - val_loss: 2.7011 - val_acc: 0.8304\n",
      "Epoch 3/10\n",
      "2397/2397 [==============================] - 0s 154us/step - loss: 2.1695 - acc: 0.8627 - val_loss: 2.6901 - val_acc: 0.8304\n",
      "Epoch 4/10\n",
      "2397/2397 [==============================] - 0s 154us/step - loss: 2.1564 - acc: 0.8627 - val_loss: 2.6976 - val_acc: 0.8304\n",
      "Epoch 5/10\n",
      "2397/2397 [==============================] - 0s 149us/step - loss: 2.1529 - acc: 0.8623 - val_loss: 2.6908 - val_acc: 0.8304\n",
      "Epoch 6/10\n",
      "2397/2397 [==============================] - 0s 152us/step - loss: 2.1386 - acc: 0.8627 - val_loss: 2.6746 - val_acc: 0.8304\n",
      "Epoch 7/10\n",
      "2397/2397 [==============================] - 0s 154us/step - loss: 2.1261 - acc: 0.8627 - val_loss: 2.6554 - val_acc: 0.8292\n",
      "Epoch 8/10\n",
      "2397/2397 [==============================] - 0s 151us/step - loss: 2.1197 - acc: 0.8627 - val_loss: 2.6674 - val_acc: 0.8254\n",
      "Epoch 9/10\n",
      "2397/2397 [==============================] - 0s 145us/step - loss: 2.1193 - acc: 0.8623 - val_loss: 2.6580 - val_acc: 0.8304\n",
      "Epoch 10/10\n",
      "2397/2397 [==============================] - 0s 149us/step - loss: 2.1103 - acc: 0.8627 - val_loss: 2.6626 - val_acc: 0.8304\n"
     ]
    }
   ],
   "source": [
    "nnCat(catFrame)"
   ]
  },
  {
   "cell_type": "markdown",
   "metadata": {},
   "source": [
    "Making a binary decision about survival in addition to optimizing the learning rate.  It should be noted that we looked at the idea of predicting that all would not survive to see if that neural net was acutally doing anything.  It is!"
   ]
  },
  {
   "cell_type": "code",
   "execution_count": 30,
   "metadata": {},
   "outputs": [],
   "source": [
    "def basicModel(dataFrame):\n",
    "    y = np.array(pd.to_numeric(dataFrame['Number of survivors']) / dataFrame['total people'].fillna(0) > .5).astype(int)\n",
    "    y = np.nan_to_num(y)\n",
    "    print(\"If all were predicted not to surivive, the accuracy would be \", np.mean(y==0))"
   ]
  },
  {
   "cell_type": "code",
   "execution_count": 31,
   "metadata": {},
   "outputs": [
    {
     "name": "stdout",
     "output_type": "stream",
     "text": [
      "If all were predicted not to surivive, the accuracy would be  0.900906533292\n"
     ]
    }
   ],
   "source": [
    "basicModel(catFrame)"
   ]
  },
  {
   "cell_type": "code",
   "execution_count": null,
   "metadata": {
    "collapsed": true
   },
   "outputs": [],
   "source": [
    "def nn(dataframe):\n",
    "    y = np.array(pd.to_numeric(dataframe['Number of survivors']) / dataframe['total people'].fillna(0) > .5).astype(int)\n",
    "    y = np.nan_to_num(y)\n",
    "\n",
    "    x = np.array(dataframe[['UNSD Geographical Grouping', 'Migrant Route', 'Region of Incident', 'percent female',\n",
    "                     'percent kids', 'percent male', 'month', 'day']])  #using xyz makes accuracy worse\n",
    "    x = np.nan_to_num(x)\n",
    "\n",
    "    x[:,3] = (100*x[:,3]).astype(int)\n",
    "    x[:,4] = (100*x[:,4]).astype(int)\n",
    "    x[:,5] = (100*x[:,5]).astype(int)\n",
    "   \n",
    "    ntr = len(y)//4 *3\n",
    "    x_tr = x[:ntr,:]\n",
    "    y_tr = y[:ntr]\n",
    "    x_ts = x[ntr:,:]\n",
    "    y_ts = y[ntr:]\n",
    "    \n",
    "    \n",
    "    K.clear_session()\n",
    "\n",
    "    nin = x.shape[1]\n",
    "    nout = int(np.max(y)+1) \n",
    "    model = Sequential()\n",
    "\n",
    "\n",
    "    model.add(Dense(100, input_shape=(nin,), activation='relu', name='hidden'))\n",
    "    model.add(Dense(nout, activation='softmax', name='output'))\n",
    "\n",
    "    model.summary()\n",
    "\n",
    "    opt = optimizers.Adam(lr=0.01) # beta_1=0.9, beta_2=0.999, epsilon=1e-08, decay=0.0)\n",
    "    model.compile(optimizer=opt,\n",
    "                  loss='sparse_categorical_crossentropy',\n",
    "                  metrics=['accuracy'])\n",
    "    model.fit(x_tr, y_tr, epochs=10, batch_size=100, validation_data=(x_ts,y_ts)) \n",
    "    \n",
    "    return model,x_tr,y_tr,x_ts,y_ts"
   ]
  },
  {
   "cell_type": "code",
   "execution_count": null,
   "metadata": {
    "scrolled": false
   },
   "outputs": [
    {
     "name": "stderr",
     "output_type": "stream",
     "text": [
      "C:\\Users\\kimmy\\Miniconda2\\envs\\py35\\lib\\site-packages\\ipykernel_launcher.py:9: RuntimeWarning: overflow encountered in multiply\n",
      "  if __name__ == '__main__':\n",
      "C:\\Users\\kimmy\\Miniconda2\\envs\\py35\\lib\\site-packages\\ipykernel_launcher.py:10: RuntimeWarning: overflow encountered in multiply\n",
      "  # Remove the CWD from sys.path while we load stuff.\n"
     ]
    },
    {
     "name": "stdout",
     "output_type": "stream",
     "text": [
      "_________________________________________________________________\n",
      "Layer (type)                 Output Shape              Param #   \n",
      "=================================================================\n",
      "hidden (Dense)               (None, 100)               900       \n",
      "_________________________________________________________________\n",
      "output (Dense)               (None, 2)                 202       \n",
      "=================================================================\n",
      "Total params: 1,102\n",
      "Trainable params: 1,102\n",
      "Non-trainable params: 0\n",
      "_________________________________________________________________\n"
     ]
    }
   ],
   "source": [
    "nnModel,x_tr,y_tr,x_ts,y_ts = nn(catFrame)"
   ]
  },
  {
   "cell_type": "markdown",
   "metadata": {},
   "source": [
    "We wanted to figure out what features led to success. We made tests that kept the other features at their average and went through the range of all possible values of one feature. We checked if any of those outputs were one. They wern't.  "
   ]
  },
  {
   "cell_type": "code",
   "execution_count": null,
   "metadata": {
    "collapsed": true
   },
   "outputs": [],
   "source": [
    "x_avg = np.mean(x,axis=0).astype(int)\n",
    "geoTest =[]\n",
    "for i in range(max(catFrame['UNSD Geographical Grouping'])):\n",
    "    geoTest.append(np.append([i],x_avg[1:]))\n",
    "geoTest = np.array(geoTest)\n",
    "geoY = nnModel.predict(geoTest)\n",
    "geoY"
   ]
  },
  {
   "cell_type": "code",
   "execution_count": null,
   "metadata": {
    "collapsed": true
   },
   "outputs": [],
   "source": [
    "mrTest =[]\n",
    "for i in range(max(catFrame['Migrant Route'])):\n",
    "    mrTest.append(np.append(x_avg[:1],np.append([i],x_avg[2:])))\n",
    "mrTest = np.array(mrTest)\n",
    "mrY = nnModel.predict(mrTest)\n",
    "mrY\n"
   ]
  },
  {
   "cell_type": "code",
   "execution_count": null,
   "metadata": {
    "collapsed": true
   },
   "outputs": [],
   "source": [
    "regionTest =[]\n",
    "for i in range(max(catFrame['Region of Incident'])):\n",
    "    regionTest.append(np.append(x_avg[:2],np.append([i],x_avg[3:])))\n",
    "regionTest = np.array(regionTest)\n",
    "regionY = nnModel.predict(regionTest)\n",
    "regionY"
   ]
  },
  {
   "cell_type": "code",
   "execution_count": null,
   "metadata": {
    "collapsed": true
   },
   "outputs": [],
   "source": []
  },
  {
   "cell_type": "code",
   "execution_count": null,
   "metadata": {
    "collapsed": true
   },
   "outputs": [],
   "source": []
  },
  {
   "cell_type": "code",
   "execution_count": null,
   "metadata": {
    "collapsed": true
   },
   "outputs": [],
   "source": []
  }
 ],
 "metadata": {
  "kernelspec": {
   "display_name": "Python 3",
   "language": "python",
   "name": "python3"
  },
  "language_info": {
   "codemirror_mode": {
    "name": "ipython",
    "version": 3
   },
   "file_extension": ".py",
   "mimetype": "text/x-python",
   "name": "python",
   "nbconvert_exporter": "python",
   "pygments_lexer": "ipython3",
   "version": "3.5.4"
  }
 },
 "nbformat": 4,
 "nbformat_minor": 2
}
